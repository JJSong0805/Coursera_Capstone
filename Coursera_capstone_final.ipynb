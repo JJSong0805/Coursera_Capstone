{
 "cells": [
  {
   "cell_type": "markdown",
   "metadata": {},
   "source": [
    "# Predicting neighborhoods with exclusively high risk of credit card fraud\n",
    "### Applied Data Science Capstone by IBM/Coursera"
   ]
  },
  {
   "cell_type": "markdown",
   "metadata": {},
   "source": [
    "## Table of contents\n",
    "* [Introduction](#introduction)\n",
    "* [Data](#Data)\n",
    "* [Building classification model](#modeling)\n",
    "* [Model evaluation](#model_evaluation)\n",
    "* [Result and discussion](#result)\n",
    "* [Future work](#future)\n"
   ]
  },
  {
   "cell_type": "markdown",
   "metadata": {},
   "source": [
    "\n",
    "\n",
    "## Introduction <a name=\"introduction\"></a>"
   ]
  },
  {
   "cell_type": "markdown",
   "metadata": {},
   "source": [
    "<b>Background:</b>\n",
    "As economy grow and online payment become prevailing, <b>credit card fraud</b> also finds its way to expand. <b>Theft by use of or counterfeit of credit card</b>, for example, are very common forms of credit card fraud. However, instead of a one-sided game, markets around the world also find their way to fight back. Unfortunately, the winning in some countries leads to the misfortune of their surrounding countries as the case in Europe. According to [the report of FICO (a company providing card alert service) in 2017](https://www.fico.com/europeanfraud/), drop in the successful fraud rate in UK and France has possibly led to the rise of success fraud rates in Austria, Denmark, Norway, Sweden, Poland and Russia. Therefore, capability to predict the neighborhoods with high risk of credit card fraud should be very helpful for financial industries and government of these vulnerable countries to fight against the upcoming fraud.\n",
    "\n",
    "<b>Problem:</b>\n",
    "Primary venues of a neighborhood might have great influence on the risk of credit card fraud. For example, neighborhoods with many financial facilities or shopping places could be fraudsters’ favorite spots. Therefore, here we aim to build a model to <b>predict the risk of credit card fraud of neighborhoods</b> based on data of venues scraped from the <b>Foursquare API</b>. In this project, we will train the model with <b>San Francisco data</b>, and evaluate the model performance with <b>Chicago data</b>.\n",
    "\n",
    "<b>Interest:</b>\n",
    "Successfully predicting the neighborhoods with high risk of credit card fraud could help local government get prepared in advance to protect citizen from the risk. For financial institutions, they could invest more effort in monitoring transactions within the neighborhoods of exclusively high risk to enhance their efficiency of detecting credit card fraud."
   ]
  },
  {
   "cell_type": "markdown",
   "metadata": {},
   "source": [
    "## Data <a name=\"data\"></a>"
   ]
  },
  {
   "cell_type": "code",
   "execution_count": 3,
   "metadata": {},
   "outputs": [],
   "source": [
    "import numpy as np # library to handle data in a vectorized manner\n",
    "\n",
    "import pandas as pd # library for data analsysis"
   ]
  },
  {
   "cell_type": "markdown",
   "metadata": {},
   "source": [
    "First, we download the crime data from a year ago to present of SanFrancisco and Chicago."
   ]
  },
  {
   "cell_type": "code",
   "execution_count": 4,
   "metadata": {},
   "outputs": [],
   "source": [
    "!wget -q -O 'Sanfran_Crime.csv' https://data.sfgov.org/api/views/tmnf-yvry/rows.csv?accessType=DOWNLOAD\n",
    "!wget -q -O 'Chicago_Crime.csv' https://data.cityofchicago.org/api/views/x2n5-8w5q/rows.csv?accessType=DOWNLOAD"
   ]
  },
  {
   "cell_type": "markdown",
   "metadata": {},
   "source": [
    "Let's take a look of the dimension of the two datasets."
   ]
  },
  {
   "cell_type": "code",
   "execution_count": 2,
   "metadata": {},
   "outputs": [
    {
     "name": "stdout",
     "output_type": "stream",
     "text": [
      "(2215024, 13)\n",
      "(264726, 17)\n"
     ]
    }
   ],
   "source": [
    "Sanfran_Crime_df = pd.read_csv('Sanfran_Crime.csv')\n",
    "Chicago_Crime_df = pd.read_csv('Chicago_Crime.csv')\n",
    "print(Sanfran_Crime_df.shape)\n",
    "print(Chicago_Crime_df.shape)"
   ]
  },
  {
   "cell_type": "markdown",
   "metadata": {},
   "source": [
    "Let's filter out the columns we don't need."
   ]
  },
  {
   "cell_type": "code",
   "execution_count": 5,
   "metadata": {},
   "outputs": [],
   "source": [
    "Sanfran_Crime_df = Sanfran_Crime_df[['Category','Descript','Y', 'X']]\n",
    "Chicago_Crime_df = Chicago_Crime_df[[' PRIMARY DESCRIPTION',' SECONDARY DESCRIPTION','LATITUDE', 'LONGITUDE']]"
   ]
  },
  {
   "cell_type": "code",
   "execution_count": 6,
   "metadata": {},
   "outputs": [],
   "source": [
    "# rename the columns\n",
    "Sanfran_Crime_df.columns = ['Category','Description','Latitude','Longitude']\n",
    "Chicago_Crime_df.columns = ['Category','Description','Latitude','Longitude']"
   ]
  },
  {
   "cell_type": "code",
   "execution_count": 18,
   "metadata": {},
   "outputs": [
    {
     "name": "stdout",
     "output_type": "stream",
     "text": [
      "['NON-CRIMINAL' 'ROBBERY' 'ASSAULT' 'SECONDARY CODES' 'VANDALISM'\n",
      " 'BURGLARY' 'LARCENY/THEFT' 'DRUG/NARCOTIC' 'WARRANTS' 'VEHICLE THEFT'\n",
      " 'OTHER OFFENSES' 'WEAPON LAWS' 'ARSON' 'MISSING PERSON'\n",
      " 'DRIVING UNDER THE INFLUENCE' 'SUSPICIOUS OCC' 'RECOVERED VEHICLE'\n",
      " 'DRUNKENNESS' 'TRESPASS' 'FRAUD' 'DISORDERLY CONDUCT'\n",
      " 'SEX OFFENSES, FORCIBLE' 'FORGERY/COUNTERFEITING' 'KIDNAPPING'\n",
      " 'EMBEZZLEMENT' 'STOLEN PROPERTY' 'LIQUOR LAWS' 'FAMILY OFFENSES'\n",
      " 'LOITERING' 'BAD CHECKS' 'TREA' 'GAMBLING' 'RUNAWAY' 'BRIBERY'\n",
      " 'PROSTITUTION' 'PORNOGRAPHY/OBSCENE MAT' 'SEX OFFENSES, NON FORCIBLE'\n",
      " 'SUICIDE' 'EXTORTION']\n",
      "['NARCOTICS' 'BATTERY' 'CRIMINAL DAMAGE' 'THEFT' 'ARSON' 'OTHER OFFENSE'\n",
      " 'ROBBERY' 'CRIMINAL TRESPASS' 'OFFENSE INVOLVING CHILDREN' 'BURGLARY'\n",
      " 'WEAPONS VIOLATION' 'DECEPTIVE PRACTICE' 'ASSAULT' 'MOTOR VEHICLE THEFT'\n",
      " 'CRIM SEXUAL ASSAULT' 'INTERFERENCE WITH PUBLIC OFFICER' 'NON-CRIMINAL'\n",
      " 'HOMICIDE' 'PROSTITUTION' 'SEX OFFENSE' 'PUBLIC PEACE VIOLATION'\n",
      " 'GAMBLING' 'INTIMIDATION' 'LIQUOR LAW VIOLATION'\n",
      " 'CONCEALED CARRY LICENSE VIOLATION' 'OBSCENITY' 'KIDNAPPING' 'STALKING'\n",
      " 'PUBLIC INDECENCY' 'HUMAN TRAFFICKING' 'OTHER NARCOTIC VIOLATION'\n",
      " 'NON-CRIMINAL (SUBJECT SPECIFIED)']\n"
     ]
    }
   ],
   "source": [
    "print(Sanfran_Crime_df['Category'].unique())\n",
    "print(Chicago_Crime_df['Category'].unique())"
   ]
  },
  {
   "cell_type": "markdown",
   "metadata": {},
   "source": [
    "We found category 'FRAUD' in Sanfran_Crime_df and 'DECEPTIVE PRACTICE' in Chicago_Crime_df might be relevant to the cards' fraud. So we take a further look into their descriptions."
   ]
  },
  {
   "cell_type": "code",
   "execution_count": 117,
   "metadata": {},
   "outputs": [
    {
     "name": "stdout",
     "output_type": "stream",
     "text": [
      "['CREDIT CARD, THEFT BY USE OF' 'DEFRAUDING AN INNKEEPER'\n",
      " 'FRAUDULENT USE OF AUTOMATED TELLER CARD' 'FALSE PRETENSES, GRAND THEFT'\n",
      " 'CREDIT CARD, THEFT OF' 'FALSE ID TO PEACE OFFICER'\n",
      " 'FALSE PRETENSES, PETTY THEFT' 'FALSE REPORT OF EMERGENCY'\n",
      " 'FRAUDULENT CREDIT APPLICATION' 'TRICK AND DEVICE, PETTY THEFT'\n",
      " 'FORGERY, CREDIT CARD' 'ACCESS CARD INFORMATION, THEFT OF'\n",
      " 'CREDIT CARD, INCOMPLETE OR COUNTERFEIT' 'IMPERSONATING A POLICE OFFICER'\n",
      " 'PRIVACY, INVASION OF  (GENERAL)' 'TRICK AND DEVICE, GRAND THEFT'\n",
      " 'REAL ESTATE FRAUD'\n",
      " 'CELLULAR OR CORDLESS PHONE COMMUNICATIONS, INTERCEPTING'\n",
      " 'FALSE CLAIMS, PRESENTING TO GOVERNMENT' 'TRICK AND DEVICE, ATTEMPTED'\n",
      " 'DEFRAUDING OF VEHICLE REPAIRMAN'\n",
      " 'ACCESS CARD INFORMATION, PUBLICATION OF'\n",
      " 'CRIMES AGAINST REVENUE & PROPERTY OF STATE'\n",
      " 'TELEPHONE OR TELEGRAPH MESSAGES, ALTERING'\n",
      " 'IMPERSONATING PUBLIC UTILITY MEMBER'\n",
      " 'FALSE REPRESENTATION TO SECONDHAND DEALER'\n",
      " 'AUDIOVISUAL (VIDEO OR SOUND) RECORDINGS, UNAUTHORIZED'\n",
      " 'IMPERSONATING FIRE DEPARTMENT MEMBER'\n",
      " 'CABLE TV CONNECTION OR DECODING DEVICE, UNAUTHORIZED'\n",
      " 'EAVESDROPPING DEVICES, SALE OR USE' 'PUTTING SLUGS IN PARKING METERS'\n",
      " 'SHORT CHANGE, PETTY THEFT' 'PUTTING SLUGS IN COIN OPERATED MACHINES'\n",
      " 'SHORT CHANGE, GRAND THEFT' 'FRAUDULENT AUCTION'\n",
      " 'PUTTING SLUGS IN TELEPHONE BOX' 'CRIMES INVOLVING RECEIPTS OR TITLES'\n",
      " 'MERCHANDISE TITLE DOCUMENT FRAUD' 'WIRETAPS, UNAUTHORIZED'\n",
      " 'PUBLIC UTILITY INFORMATION, FRAUDULENTLY OBTAINING'\n",
      " 'FALSE REPORT OF POLICE MISCONDUCT'\n",
      " 'VETERAN OR EX-SERVICEMAN, FALSE REPRESENTATION AS']\n",
      "['CREDIT CARD FRAUD' 'FINANCIAL IDENTITY THEFT OVER $ 300'\n",
      " 'ILLEGAL USE CASH CARD' 'FINANCIAL IDENTITY THEFT $300 AND UNDER'\n",
      " 'THEFT OF LABOR/SERVICES' 'COMPUTER FRAUD' 'COUNTERFEIT CHECK'\n",
      " 'COUNTERFEITING DOCUMENT' 'STOLEN PROP: BUY/RECEIVE/POS.'\n",
      " 'FRAUD OR CONFIDENCE GAME' 'ATTEMPT - FINANCIAL IDENTITY THEFT'\n",
      " 'BOGUS CHECK' 'THEFT OF LOST/MISLAID PROP' 'THEFT BY LESSEE,MOTOR VEH'\n",
      " 'FORGERY' 'FINAN EXPLOIT-ELDERLY/DISABLED' 'UNAUTHORIZED VIDEOTAPING'\n",
      " 'ILLEGAL POSSESSION CASH CARD' 'AGGRAVATED COMPUTER TAMPERING'\n",
      " 'AGGRAVATED FINANCIAL IDENTITY THEFT' 'DECEPTIVE COLLECTION PRACTICES'\n",
      " 'IMPERSONATION' 'EMBEZZLEMENT' 'UNLAWFUL USE OF A COMPUTER'\n",
      " 'PAY TV SERVICE OFFENSES' 'THEFT BY LESSEE,NON-VEH' 'INSURANCE FRAUD'\n",
      " 'UNIDENTIFIABLE RECORDING SOUND' 'UNLAWFUL USE OF RECORDED SOUND'\n",
      " 'ALTER COINS']\n"
     ]
    }
   ],
   "source": [
    "print(Sanfran_Crime_df['Description'][Sanfran_Crime_df['Category']=='FRAUD'].unique())\n",
    "print(Chicago_Crime_df['Description'][Chicago_Crime_df['Category']=='DECEPTIVE PRACTICE'].unique())\n",
    "San_fraud = Sanfran_Crime_df['Description'][Sanfran_Crime_df['Category']=='FRAUD'].unique()\n",
    "Chi_fraud = Chicago_Crime_df['Description'][Chicago_Crime_df['Category']=='DECEPTIVE PRACTICE'].unique()"
   ]
  },
  {
   "cell_type": "markdown",
   "metadata": {},
   "source": [
    "Now let's narrow down our data to cards' fraud according to the descriptions. The according descriptions in San Francisco data is <b>'CREDIT CARD, THEFT BY USE OF', 'CREDIT CARD, THEFT OF'</b>. And the according descriptions in Chicago data is <b>'CREDIT CARD FRAUD'</b>."
   ]
  },
  {
   "cell_type": "code",
   "execution_count": 7,
   "metadata": {},
   "outputs": [
    {
     "name": "stdout",
     "output_type": "stream",
     "text": [
      "(23083, 4)\n",
      "(4678, 4)\n"
     ]
    }
   ],
   "source": [
    "Cards_San = ['CREDIT CARD, THEFT BY USE OF', 'CREDIT CARD, THEFT OF']\n",
    "Cards_Chi = ['CREDIT CARD FRAUD']\n",
    "\n",
    "# create empty dataframe to append the rows we need by loop\n",
    "San_Cards_Fraud = pd.DataFrame(columns=['Category','Description','Latitude','Longitude'])\n",
    "Chi_Cards_Fraud = pd.DataFrame(columns=['Category','Description','Latitude','Longitude'])\n",
    "\n",
    "# loop through the original data to extract the rows of cards' fraud\n",
    "for cards in Cards_San:\n",
    "    San_Cards_Fraud=San_Cards_Fraud.append(Sanfran_Crime_df[Sanfran_Crime_df['Description'] == cards], ignore_index = True)\n",
    "\n",
    "for cards in Cards_Chi:\n",
    "    Chi_Cards_Fraud=Chi_Cards_Fraud.append(Chicago_Crime_df[Chicago_Crime_df['Description'] == cards], ignore_index = True)\n",
    "    \n",
    "print(San_Cards_Fraud.shape)\n",
    "print(Chi_Cards_Fraud.shape)"
   ]
  },
  {
   "cell_type": "markdown",
   "metadata": {},
   "source": [
    "For the San Francisco data we use the <b>within()</b> method in the shapely library to help us find out the neighborhood that each card's fraud happened. Here we use the analysis neighborhoods of San Francisco from https://data.sfgov.org/Geographic-Locations-and-Boundaries/Analysis-Neighborhoods/p5b7-5n3h, which were defined for the purpose of providing consistency in the analysis and reporting of socio-economic, demographic, and environmental data, and data on City-funded programs and services. "
   ]
  },
  {
   "cell_type": "code",
   "execution_count": 11,
   "metadata": {},
   "outputs": [
    {
     "data": {
      "text/html": [
       "<div>\n",
       "<style scoped>\n",
       "    .dataframe tbody tr th:only-of-type {\n",
       "        vertical-align: middle;\n",
       "    }\n",
       "\n",
       "    .dataframe tbody tr th {\n",
       "        vertical-align: top;\n",
       "    }\n",
       "\n",
       "    .dataframe thead th {\n",
       "        text-align: right;\n",
       "    }\n",
       "</style>\n",
       "<table border=\"1\" class=\"dataframe\">\n",
       "  <thead>\n",
       "    <tr style=\"text-align: right;\">\n",
       "      <th></th>\n",
       "      <th>Category</th>\n",
       "      <th>Description</th>\n",
       "      <th>Latitude</th>\n",
       "      <th>Longitude</th>\n",
       "    </tr>\n",
       "  </thead>\n",
       "  <tbody>\n",
       "    <tr>\n",
       "      <th>0</th>\n",
       "      <td>FRAUD</td>\n",
       "      <td>CREDIT CARD, THEFT BY USE OF</td>\n",
       "      <td>37.791178</td>\n",
       "      <td>-122.400749</td>\n",
       "    </tr>\n",
       "    <tr>\n",
       "      <th>1</th>\n",
       "      <td>FRAUD</td>\n",
       "      <td>CREDIT CARD, THEFT BY USE OF</td>\n",
       "      <td>37.799209</td>\n",
       "      <td>-122.433407</td>\n",
       "    </tr>\n",
       "    <tr>\n",
       "      <th>2</th>\n",
       "      <td>FRAUD</td>\n",
       "      <td>CREDIT CARD, THEFT BY USE OF</td>\n",
       "      <td>37.729935</td>\n",
       "      <td>-122.397744</td>\n",
       "    </tr>\n",
       "    <tr>\n",
       "      <th>3</th>\n",
       "      <td>FRAUD</td>\n",
       "      <td>CREDIT CARD, THEFT BY USE OF</td>\n",
       "      <td>37.789173</td>\n",
       "      <td>-122.409445</td>\n",
       "    </tr>\n",
       "    <tr>\n",
       "      <th>4</th>\n",
       "      <td>FRAUD</td>\n",
       "      <td>CREDIT CARD, THEFT BY USE OF</td>\n",
       "      <td>37.802120</td>\n",
       "      <td>-122.425559</td>\n",
       "    </tr>\n",
       "  </tbody>\n",
       "</table>\n",
       "</div>"
      ],
      "text/plain": [
       "  Category                   Description   Latitude   Longitude\n",
       "0    FRAUD  CREDIT CARD, THEFT BY USE OF  37.791178 -122.400749\n",
       "1    FRAUD  CREDIT CARD, THEFT BY USE OF  37.799209 -122.433407\n",
       "2    FRAUD  CREDIT CARD, THEFT BY USE OF  37.729935 -122.397744\n",
       "3    FRAUD  CREDIT CARD, THEFT BY USE OF  37.789173 -122.409445\n",
       "4    FRAUD  CREDIT CARD, THEFT BY USE OF  37.802120 -122.425559"
      ]
     },
     "execution_count": 11,
     "metadata": {},
     "output_type": "execute_result"
    }
   ],
   "source": [
    "San_Cards_Fraud.head()"
   ]
  },
  {
   "cell_type": "code",
   "execution_count": 4,
   "metadata": {},
   "outputs": [
    {
     "name": "stdout",
     "output_type": "stream",
     "text": [
      "Collecting package metadata: done\n",
      "Solving environment: done\n",
      "\n",
      "## Package Plan ##\n",
      "\n",
      "  environment location: /home/jupyterlab/conda\n",
      "\n",
      "  added / updated specs:\n",
      "    - shapely\n",
      "\n",
      "\n",
      "The following packages will be downloaded:\n",
      "\n",
      "    package                    |            build\n",
      "    ---------------------------|-----------------\n",
      "    basemap-1.2.0              |   py36h673bf1a_2        15.2 MB  conda-forge\n",
      "    geos-3.7.1                 |    hf484d3e_1000         1.6 MB  conda-forge\n",
      "    shapely-1.6.4              |py36h2afed24_1003         337 KB  conda-forge\n",
      "    ------------------------------------------------------------\n",
      "                                           Total:        17.1 MB\n",
      "\n",
      "The following NEW packages will be INSTALLED:\n",
      "\n",
      "  shapely            conda-forge/linux-64::shapely-1.6.4-py36h2afed24_1003\n",
      "\n",
      "The following packages will be UPDATED:\n",
      "\n",
      "  basemap            anaconda::basemap-1.2.0-py36h705c2d8_0 --> conda-forge::basemap-1.2.0-py36h673bf1a_2\n",
      "  geos                     pkgs/main::geos-3.6.2-heeff764_2 --> conda-forge::geos-3.7.1-hf484d3e_1000\n",
      "\n",
      "\n",
      "\n",
      "Downloading and Extracting Packages\n",
      "geos-3.7.1           | 1.6 MB    | ##################################### | 100% \n",
      "basemap-1.2.0        | 15.2 MB   | ##################################### | 100% \n",
      "shapely-1.6.4        | 337 KB    | ##################################### | 100% \n",
      "Preparing transaction: done\n",
      "Verifying transaction: done\n",
      "Executing transaction: done\n"
     ]
    }
   ],
   "source": [
    "!conda install -c conda-forge shapely --yes"
   ]
  },
  {
   "cell_type": "code",
   "execution_count": 6,
   "metadata": {},
   "outputs": [],
   "source": [
    "import shapely\n",
    "import shapefile\n",
    "import json\n",
    "from shapely.geometry import LineString, shape, Point\n",
    "with open('Analysis_Neighborhoods.geojson') as geojson_data:\n",
    "    Analysis_Neighborhoods = json.load(geojson_data)"
   ]
  },
  {
   "cell_type": "code",
   "execution_count": 13,
   "metadata": {},
   "outputs": [
    {
     "data": {
      "text/plain": [
       "['Financial District/South Beach',\n",
       " 'Marina',\n",
       " 'Bayview Hunters Point',\n",
       " 'Nob Hill',\n",
       " 'Marina',\n",
       " 'North Beach',\n",
       " 'Mission',\n",
       " 'Tenderloin',\n",
       " 'Nob Hill',\n",
       " 'Western Addition']"
      ]
     },
     "execution_count": 13,
     "metadata": {},
     "output_type": "execute_result"
    }
   ],
   "source": [
    "Lat = San_Cards_Fraud['Latitude']\n",
    "Lon = San_Cards_Fraud['Longitude']\n",
    "Neighborhood = list(np.zeros_like(San_Cards_Fraud['Latitude'])) # in case there's any incident located out of all neighborhoods\n",
    "\n",
    "for i in range(San_Cards_Fraud.shape[0]):\n",
    "    point = Point(Lon[i], Lat[i])\n",
    "    #loop through neighborhoods to see whether the coordinate is wtihin it\n",
    "    for k in range(len(Analysis_Neighborhoods['features'])):\n",
    "        multi = shape(Analysis_Neighborhoods['features'][k]['geometry'])      \n",
    "        if point.within(multi):\n",
    "            Neighborhood[i] = Analysis_Neighborhoods['features'][k]['properties']['nhood']\n",
    "            break\n",
    "\n",
    "Neighborhood[0:10]"
   ]
  },
  {
   "cell_type": "code",
   "execution_count": 14,
   "metadata": {},
   "outputs": [],
   "source": [
    "San_Cards_Fraud['Neighborhood']=Neighborhood\n",
    "# drop rows that don't belong to any neighborhood\n",
    "San_Cards_Fraud['Neighborhood'].replace(0, np.nan, inplace=True)\n",
    "San_Cards_Fraud.dropna(subset=[\"Neighborhood\"], axis=0, inplace=True)\n",
    "\n",
    "# reset index, because we droped two rows\n",
    "San_Cards_Fraud.reset_index(drop=True, inplace=True)"
   ]
  },
  {
   "cell_type": "code",
   "execution_count": 15,
   "metadata": {},
   "outputs": [
    {
     "data": {
      "text/plain": [
       "(23068, 5)"
      ]
     },
     "execution_count": 15,
     "metadata": {},
     "output_type": "execute_result"
    }
   ],
   "source": [
    "San_Cards_Fraud.shape"
   ]
  },
  {
   "cell_type": "markdown",
   "metadata": {},
   "source": [
    "For Chicago data, we found some functions on GitHub that can assigned neighborhood to a given coordinate. So we just used the code directly. To successfully use it, we need to download the gps_to_neighborhood.py and Neighborhoods_2012_polygons file to the working directory from https://github.com/jkgiesler/parse-chicago-neighborhoods."
   ]
  },
  {
   "cell_type": "code",
   "execution_count": 8,
   "metadata": {},
   "outputs": [
    {
     "name": "stdout",
     "output_type": "stream",
     "text": [
      "NEAR SOUTH SIDE\n"
     ]
    }
   ],
   "source": [
    "import gps_to_neighborhood"
   ]
  },
  {
   "cell_type": "code",
   "execution_count": 9,
   "metadata": {},
   "outputs": [],
   "source": [
    "# drop whole row that don't have coordinates\n",
    "Chi_Cards_Fraud.dropna(subset=[\"Latitude\"], axis=0, inplace=True)\n",
    "# reset index\n",
    "Chi_Cards_Fraud.reset_index(drop=True, inplace=True)\n",
    "\n",
    "all_neighborhoods = gps_to_neighborhood.get_all_neighborhoods()\n",
    "Neighborhoods = np.zeros_like(Chi_Cards_Fraud.iloc[:,0])\n",
    "for i in range(Chi_Cards_Fraud.shape[0]):\n",
    "    Neighborhoods[i] = gps_to_neighborhood.find_neighborhood(Chi_Cards_Fraud['Longitude'][i],Chi_Cards_Fraud['Latitude'][i],all_neighborhoods)"
   ]
  },
  {
   "cell_type": "code",
   "execution_count": 10,
   "metadata": {},
   "outputs": [
    {
     "data": {
      "text/html": [
       "<div>\n",
       "<style scoped>\n",
       "    .dataframe tbody tr th:only-of-type {\n",
       "        vertical-align: middle;\n",
       "    }\n",
       "\n",
       "    .dataframe tbody tr th {\n",
       "        vertical-align: top;\n",
       "    }\n",
       "\n",
       "    .dataframe thead th {\n",
       "        text-align: right;\n",
       "    }\n",
       "</style>\n",
       "<table border=\"1\" class=\"dataframe\">\n",
       "  <thead>\n",
       "    <tr style=\"text-align: right;\">\n",
       "      <th></th>\n",
       "      <th>Category</th>\n",
       "      <th>Description</th>\n",
       "      <th>Latitude</th>\n",
       "      <th>Longitude</th>\n",
       "      <th>Neighborhood</th>\n",
       "    </tr>\n",
       "  </thead>\n",
       "  <tbody>\n",
       "    <tr>\n",
       "      <th>0</th>\n",
       "      <td>DECEPTIVE PRACTICE</td>\n",
       "      <td>CREDIT CARD FRAUD</td>\n",
       "      <td>41.891199</td>\n",
       "      <td>-87.624138</td>\n",
       "      <td>STREETERVILLE</td>\n",
       "    </tr>\n",
       "    <tr>\n",
       "      <th>1</th>\n",
       "      <td>DECEPTIVE PRACTICE</td>\n",
       "      <td>CREDIT CARD FRAUD</td>\n",
       "      <td>41.881718</td>\n",
       "      <td>-87.627760</td>\n",
       "      <td>LOOP</td>\n",
       "    </tr>\n",
       "    <tr>\n",
       "      <th>2</th>\n",
       "      <td>DECEPTIVE PRACTICE</td>\n",
       "      <td>CREDIT CARD FRAUD</td>\n",
       "      <td>41.896561</td>\n",
       "      <td>-87.636585</td>\n",
       "      <td>RIVER NORTH</td>\n",
       "    </tr>\n",
       "    <tr>\n",
       "      <th>3</th>\n",
       "      <td>DECEPTIVE PRACTICE</td>\n",
       "      <td>CREDIT CARD FRAUD</td>\n",
       "      <td>41.750060</td>\n",
       "      <td>-87.702402</td>\n",
       "      <td>ASHBURN</td>\n",
       "    </tr>\n",
       "    <tr>\n",
       "      <th>4</th>\n",
       "      <td>DECEPTIVE PRACTICE</td>\n",
       "      <td>CREDIT CARD FRAUD</td>\n",
       "      <td>41.911780</td>\n",
       "      <td>-87.677494</td>\n",
       "      <td>WICKER PARK,WEST TOWN</td>\n",
       "    </tr>\n",
       "  </tbody>\n",
       "</table>\n",
       "</div>"
      ],
      "text/plain": [
       "             Category        Description   Latitude  Longitude  \\\n",
       "0  DECEPTIVE PRACTICE  CREDIT CARD FRAUD  41.891199 -87.624138   \n",
       "1  DECEPTIVE PRACTICE  CREDIT CARD FRAUD  41.881718 -87.627760   \n",
       "2  DECEPTIVE PRACTICE  CREDIT CARD FRAUD  41.896561 -87.636585   \n",
       "3  DECEPTIVE PRACTICE  CREDIT CARD FRAUD  41.750060 -87.702402   \n",
       "4  DECEPTIVE PRACTICE  CREDIT CARD FRAUD  41.911780 -87.677494   \n",
       "\n",
       "            Neighborhood  \n",
       "0          STREETERVILLE  \n",
       "1                   LOOP  \n",
       "2            RIVER NORTH  \n",
       "3                ASHBURN  \n",
       "4  WICKER PARK,WEST TOWN  "
      ]
     },
     "execution_count": 10,
     "metadata": {},
     "output_type": "execute_result"
    }
   ],
   "source": [
    "Chi_Cards_Fraud['Neighborhood']=Neighborhoods[:]\n",
    "Chi_Cards_Fraud.head()"
   ]
  },
  {
   "cell_type": "code",
   "execution_count": 16,
   "metadata": {},
   "outputs": [],
   "source": [
    "San_Cards_Fraud.to_csv('San_Cards_Frauds_copy.csv')\n",
    "Chi_Cards_Fraud.to_csv('Chi_Cards_Frauds_copy.csv')"
   ]
  },
  {
   "cell_type": "code",
   "execution_count": 7,
   "metadata": {},
   "outputs": [],
   "source": [
    "San_Cards_Fraud = pd.read_csv('San_Cards_Frauds_copy.csv').iloc[:,1:6]\n",
    "Chi_Cards_Fraud = pd.read_csv('Chi_Cards_Frauds_copy.csv').iloc[:,1:6]"
   ]
  },
  {
   "cell_type": "markdown",
   "metadata": {},
   "source": [
    "### Credit card fraud rates of neighborhoods in San Francisco"
   ]
  },
  {
   "cell_type": "code",
   "execution_count": 8,
   "metadata": {},
   "outputs": [
    {
     "data": {
      "text/html": [
       "<div>\n",
       "<style scoped>\n",
       "    .dataframe tbody tr th:only-of-type {\n",
       "        vertical-align: middle;\n",
       "    }\n",
       "\n",
       "    .dataframe tbody tr th {\n",
       "        vertical-align: top;\n",
       "    }\n",
       "\n",
       "    .dataframe thead th {\n",
       "        text-align: right;\n",
       "    }\n",
       "</style>\n",
       "<table border=\"1\" class=\"dataframe\">\n",
       "  <thead>\n",
       "    <tr style=\"text-align: right;\">\n",
       "      <th></th>\n",
       "      <th>Neighborhood</th>\n",
       "      <th>Rates (%)</th>\n",
       "    </tr>\n",
       "  </thead>\n",
       "  <tbody>\n",
       "    <tr>\n",
       "      <th>0</th>\n",
       "      <td>Bayview Hunters Point</td>\n",
       "      <td>2.657361</td>\n",
       "    </tr>\n",
       "    <tr>\n",
       "      <th>1</th>\n",
       "      <td>Bernal Heights</td>\n",
       "      <td>1.452228</td>\n",
       "    </tr>\n",
       "    <tr>\n",
       "      <th>2</th>\n",
       "      <td>Castro/Upper Market</td>\n",
       "      <td>3.676088</td>\n",
       "    </tr>\n",
       "    <tr>\n",
       "      <th>3</th>\n",
       "      <td>Chinatown</td>\n",
       "      <td>2.115485</td>\n",
       "    </tr>\n",
       "    <tr>\n",
       "      <th>4</th>\n",
       "      <td>Excelsior</td>\n",
       "      <td>1.512918</td>\n",
       "    </tr>\n",
       "    <tr>\n",
       "      <th>5</th>\n",
       "      <td>Financial District/South Beach</td>\n",
       "      <td>11.613491</td>\n",
       "    </tr>\n",
       "    <tr>\n",
       "      <th>6</th>\n",
       "      <td>Glen Park</td>\n",
       "      <td>0.611236</td>\n",
       "    </tr>\n",
       "    <tr>\n",
       "      <th>7</th>\n",
       "      <td>Golden Gate Park</td>\n",
       "      <td>0.481186</td>\n",
       "    </tr>\n",
       "    <tr>\n",
       "      <th>8</th>\n",
       "      <td>Haight Ashbury</td>\n",
       "      <td>1.747009</td>\n",
       "    </tr>\n",
       "    <tr>\n",
       "      <th>9</th>\n",
       "      <td>Hayes Valley</td>\n",
       "      <td>2.466620</td>\n",
       "    </tr>\n",
       "    <tr>\n",
       "      <th>10</th>\n",
       "      <td>Inner Richmond</td>\n",
       "      <td>1.838044</td>\n",
       "    </tr>\n",
       "    <tr>\n",
       "      <th>11</th>\n",
       "      <td>Inner Sunset</td>\n",
       "      <td>1.790359</td>\n",
       "    </tr>\n",
       "    <tr>\n",
       "      <th>12</th>\n",
       "      <td>Japantown</td>\n",
       "      <td>0.745622</td>\n",
       "    </tr>\n",
       "    <tr>\n",
       "      <th>13</th>\n",
       "      <td>Lakeshore</td>\n",
       "      <td>1.955089</td>\n",
       "    </tr>\n",
       "    <tr>\n",
       "      <th>14</th>\n",
       "      <td>Lincoln Park</td>\n",
       "      <td>0.030345</td>\n",
       "    </tr>\n",
       "    <tr>\n",
       "      <th>15</th>\n",
       "      <td>Lone Mountain/USF</td>\n",
       "      <td>1.538928</td>\n",
       "    </tr>\n",
       "    <tr>\n",
       "      <th>16</th>\n",
       "      <td>Marina</td>\n",
       "      <td>3.030172</td>\n",
       "    </tr>\n",
       "    <tr>\n",
       "      <th>17</th>\n",
       "      <td>McLaren Park</td>\n",
       "      <td>0.065025</td>\n",
       "    </tr>\n",
       "    <tr>\n",
       "      <th>18</th>\n",
       "      <td>Mission</td>\n",
       "      <td>8.180163</td>\n",
       "    </tr>\n",
       "    <tr>\n",
       "      <th>19</th>\n",
       "      <td>Mission Bay</td>\n",
       "      <td>0.871337</td>\n",
       "    </tr>\n",
       "    <tr>\n",
       "      <th>20</th>\n",
       "      <td>Nob Hill</td>\n",
       "      <td>3.342292</td>\n",
       "    </tr>\n",
       "    <tr>\n",
       "      <th>21</th>\n",
       "      <td>Noe Valley</td>\n",
       "      <td>1.213803</td>\n",
       "    </tr>\n",
       "    <tr>\n",
       "      <th>22</th>\n",
       "      <td>North Beach</td>\n",
       "      <td>2.601006</td>\n",
       "    </tr>\n",
       "    <tr>\n",
       "      <th>23</th>\n",
       "      <td>Oceanview/Merced/Ingleside</td>\n",
       "      <td>1.213803</td>\n",
       "    </tr>\n",
       "    <tr>\n",
       "      <th>24</th>\n",
       "      <td>Outer Mission</td>\n",
       "      <td>1.235478</td>\n",
       "    </tr>\n",
       "    <tr>\n",
       "      <th>25</th>\n",
       "      <td>Outer Richmond</td>\n",
       "      <td>2.618346</td>\n",
       "    </tr>\n",
       "    <tr>\n",
       "      <th>26</th>\n",
       "      <td>Pacific Heights</td>\n",
       "      <td>2.154500</td>\n",
       "    </tr>\n",
       "    <tr>\n",
       "      <th>27</th>\n",
       "      <td>Portola</td>\n",
       "      <td>0.758627</td>\n",
       "    </tr>\n",
       "    <tr>\n",
       "      <th>28</th>\n",
       "      <td>Potrero Hill</td>\n",
       "      <td>1.083752</td>\n",
       "    </tr>\n",
       "    <tr>\n",
       "      <th>29</th>\n",
       "      <td>Presidio</td>\n",
       "      <td>0.013005</td>\n",
       "    </tr>\n",
       "    <tr>\n",
       "      <th>30</th>\n",
       "      <td>Presidio Heights</td>\n",
       "      <td>0.984047</td>\n",
       "    </tr>\n",
       "    <tr>\n",
       "      <th>31</th>\n",
       "      <td>Russian Hill</td>\n",
       "      <td>1.534593</td>\n",
       "    </tr>\n",
       "    <tr>\n",
       "      <th>32</th>\n",
       "      <td>Seacliff</td>\n",
       "      <td>0.134385</td>\n",
       "    </tr>\n",
       "    <tr>\n",
       "      <th>33</th>\n",
       "      <td>South of Market</td>\n",
       "      <td>13.026704</td>\n",
       "    </tr>\n",
       "    <tr>\n",
       "      <th>34</th>\n",
       "      <td>Sunset/Parkside</td>\n",
       "      <td>4.048899</td>\n",
       "    </tr>\n",
       "    <tr>\n",
       "      <th>35</th>\n",
       "      <td>Tenderloin</td>\n",
       "      <td>7.993758</td>\n",
       "    </tr>\n",
       "    <tr>\n",
       "      <th>36</th>\n",
       "      <td>Treasure Island</td>\n",
       "      <td>0.082365</td>\n",
       "    </tr>\n",
       "    <tr>\n",
       "      <th>37</th>\n",
       "      <td>Twin Peaks</td>\n",
       "      <td>0.502861</td>\n",
       "    </tr>\n",
       "    <tr>\n",
       "      <th>38</th>\n",
       "      <td>Visitacion Valley</td>\n",
       "      <td>0.619906</td>\n",
       "    </tr>\n",
       "    <tr>\n",
       "      <th>39</th>\n",
       "      <td>West of Twin Peaks</td>\n",
       "      <td>2.561991</td>\n",
       "    </tr>\n",
       "    <tr>\n",
       "      <th>40</th>\n",
       "      <td>Western Addition</td>\n",
       "      <td>3.897174</td>\n",
       "    </tr>\n",
       "  </tbody>\n",
       "</table>\n",
       "</div>"
      ],
      "text/plain": [
       "                      Neighborhood  Rates (%)\n",
       "0            Bayview Hunters Point   2.657361\n",
       "1                   Bernal Heights   1.452228\n",
       "2              Castro/Upper Market   3.676088\n",
       "3                        Chinatown   2.115485\n",
       "4                        Excelsior   1.512918\n",
       "5   Financial District/South Beach  11.613491\n",
       "6                        Glen Park   0.611236\n",
       "7                 Golden Gate Park   0.481186\n",
       "8                   Haight Ashbury   1.747009\n",
       "9                     Hayes Valley   2.466620\n",
       "10                  Inner Richmond   1.838044\n",
       "11                    Inner Sunset   1.790359\n",
       "12                       Japantown   0.745622\n",
       "13                       Lakeshore   1.955089\n",
       "14                    Lincoln Park   0.030345\n",
       "15               Lone Mountain/USF   1.538928\n",
       "16                          Marina   3.030172\n",
       "17                    McLaren Park   0.065025\n",
       "18                         Mission   8.180163\n",
       "19                     Mission Bay   0.871337\n",
       "20                        Nob Hill   3.342292\n",
       "21                      Noe Valley   1.213803\n",
       "22                     North Beach   2.601006\n",
       "23      Oceanview/Merced/Ingleside   1.213803\n",
       "24                   Outer Mission   1.235478\n",
       "25                  Outer Richmond   2.618346\n",
       "26                 Pacific Heights   2.154500\n",
       "27                         Portola   0.758627\n",
       "28                    Potrero Hill   1.083752\n",
       "29                        Presidio   0.013005\n",
       "30                Presidio Heights   0.984047\n",
       "31                    Russian Hill   1.534593\n",
       "32                        Seacliff   0.134385\n",
       "33                 South of Market  13.026704\n",
       "34                 Sunset/Parkside   4.048899\n",
       "35                      Tenderloin   7.993758\n",
       "36                 Treasure Island   0.082365\n",
       "37                      Twin Peaks   0.502861\n",
       "38               Visitacion Valley   0.619906\n",
       "39              West of Twin Peaks   2.561991\n",
       "40                Western Addition   3.897174"
      ]
     },
     "execution_count": 8,
     "metadata": {},
     "output_type": "execute_result"
    }
   ],
   "source": [
    "#calculate credit card fraud rates of each nieghborhood\n",
    "Counts = San_Cards_Fraud.groupby('Neighborhood').count()['Category']\n",
    "San_Cards_Fraud_rates = San_Cards_Fraud.groupby('Neighborhood').count()\n",
    "San_Cards_Fraud_rates['Rates (%)'] = Counts*100/sum(Counts)\n",
    "San_Cards_Fraud_rates.drop(['Category','Description','Latitude','Longitude'], axis=1, inplace=True)\n",
    "San_Cards_Fraud_rates = San_Cards_Fraud_rates.reset_index()\n",
    "San_Cards_Fraud_rates"
   ]
  },
  {
   "cell_type": "code",
   "execution_count": 9,
   "metadata": {},
   "outputs": [
    {
     "name": "stdout",
     "output_type": "stream",
     "text": [
      "Matplotlib version:  3.0.3\n"
     ]
    }
   ],
   "source": [
    "%matplotlib inline\n",
    "\n",
    "import matplotlib as mpl\n",
    "import matplotlib.pyplot as plt\n",
    "\n",
    "mpl.style.use('ggplot') # optional: for ggplot-like style\n",
    "\n",
    "# check for latest version of Matplotlib\n",
    "print('Matplotlib version: ', mpl.__version__) # >= 2.0.0"
   ]
  },
  {
   "cell_type": "markdown",
   "metadata": {},
   "source": [
    "Let's draw a boxplot to see the distribution of credit card fraud rates of neighborhoods."
   ]
  },
  {
   "cell_type": "code",
   "execution_count": 10,
   "metadata": {},
   "outputs": [
    {
     "data": {
      "image/png": "[encoded data removed]",
      "text/plain": [
       "<Figure size 576x432 with 1 Axes>"
      ]
     },
     "metadata": {
      "needs_background": "light"
     },
     "output_type": "display_data"
    }
   ],
   "source": [
    "San_Cards_Fraud_rates['Rates (%)'].plot(kind='box', figsize=(8, 6))\n",
    "\n",
    "plt.title(\"Box plot of Cards' fraud rates of Sanfrancisco's neighborhoods\")\n",
    "plt.ylabel('Rates in percents')\n",
    "\n",
    "plt.show()"
   ]
  },
  {
   "cell_type": "code",
   "execution_count": 10,
   "metadata": {},
   "outputs": [
    {
     "data": {
      "text/plain": [
       "count    41.000000\n",
       "mean      2.439024\n",
       "std       2.879823\n",
       "min       0.013005\n",
       "25%       0.758627\n",
       "50%       1.538928\n",
       "75%       2.618346\n",
       "max      13.026704\n",
       "Name: Rates (%), dtype: float64"
      ]
     },
     "execution_count": 10,
     "metadata": {},
     "output_type": "execute_result"
    }
   ],
   "source": [
    "# Descriptive statistics for credit card fraud rates of neighborhoods\n",
    "Descriptive = San_Cards_Fraud_rates['Rates (%)'].describe()\n",
    "Descriptive"
   ]
  },
  {
   "cell_type": "markdown",
   "metadata": {},
   "source": [
    "From the boxplot, indeed,we saw there're some outliers with exclusively high credit card fraud rates. Thus, we labeled the neighborhoods into two categories which are average (not outliers) and outliers (over 75 quantile + 1.5 IQR)."
   ]
  },
  {
   "cell_type": "code",
   "execution_count": 11,
   "metadata": {},
   "outputs": [
    {
     "name": "stderr",
     "output_type": "stream",
     "text": [
      "/home/jupyterlab/conda/lib/python3.6/site-packages/ipykernel_launcher.py:5: SettingWithCopyWarning: \n",
      "A value is trying to be set on a copy of a slice from a DataFrame\n",
      "\n",
      "See the caveats in the documentation: http://pandas.pydata.org/pandas-docs/stable/indexing.html#indexing-view-versus-copy\n",
      "  \"\"\"\n",
      "/home/jupyterlab/conda/lib/python3.6/site-packages/ipykernel_launcher.py:6: SettingWithCopyWarning: \n",
      "A value is trying to be set on a copy of a slice from a DataFrame\n",
      "\n",
      "See the caveats in the documentation: http://pandas.pydata.org/pandas-docs/stable/indexing.html#indexing-view-versus-copy\n",
      "  \n"
     ]
    },
    {
     "data": {
      "text/html": [
       "<div>\n",
       "<style scoped>\n",
       "    .dataframe tbody tr th:only-of-type {\n",
       "        vertical-align: middle;\n",
       "    }\n",
       "\n",
       "    .dataframe tbody tr th {\n",
       "        vertical-align: top;\n",
       "    }\n",
       "\n",
       "    .dataframe thead th {\n",
       "        text-align: right;\n",
       "    }\n",
       "</style>\n",
       "<table border=\"1\" class=\"dataframe\">\n",
       "  <thead>\n",
       "    <tr style=\"text-align: right;\">\n",
       "      <th></th>\n",
       "      <th>Neighborhood</th>\n",
       "      <th>Rates (%)</th>\n",
       "      <th>risk_level</th>\n",
       "    </tr>\n",
       "  </thead>\n",
       "  <tbody>\n",
       "    <tr>\n",
       "      <th>0</th>\n",
       "      <td>Bayview Hunters Point</td>\n",
       "      <td>2.657361</td>\n",
       "      <td>average</td>\n",
       "    </tr>\n",
       "    <tr>\n",
       "      <th>1</th>\n",
       "      <td>Bernal Heights</td>\n",
       "      <td>1.452228</td>\n",
       "      <td>average</td>\n",
       "    </tr>\n",
       "    <tr>\n",
       "      <th>2</th>\n",
       "      <td>Castro/Upper Market</td>\n",
       "      <td>3.676088</td>\n",
       "      <td>average</td>\n",
       "    </tr>\n",
       "    <tr>\n",
       "      <th>3</th>\n",
       "      <td>Chinatown</td>\n",
       "      <td>2.115485</td>\n",
       "      <td>average</td>\n",
       "    </tr>\n",
       "    <tr>\n",
       "      <th>4</th>\n",
       "      <td>Excelsior</td>\n",
       "      <td>1.512918</td>\n",
       "      <td>average</td>\n",
       "    </tr>\n",
       "  </tbody>\n",
       "</table>\n",
       "</div>"
      ],
      "text/plain": [
       "            Neighborhood  Rates (%) risk_level\n",
       "0  Bayview Hunters Point   2.657361    average\n",
       "1         Bernal Heights   1.452228    average\n",
       "2    Castro/Upper Market   3.676088    average\n",
       "3              Chinatown   2.115485    average\n",
       "4              Excelsior   1.512918    average"
      ]
     },
     "execution_count": 11,
     "metadata": {},
     "output_type": "execute_result"
    }
   ],
   "source": [
    "rates = San_Cards_Fraud_rates['Rates (%)']\n",
    "risk_level = list(np.zeros_like(rates))\n",
    "San_Cards_Fraud_rates['risk_level'] = risk_level\n",
    "IQR = Descriptive['75%']-Descriptive['25%']\n",
    "San_Cards_Fraud_rates['risk_level'][rates <= Descriptive['75%']+1.5*IQR] = 'average'\n",
    "San_Cards_Fraud_rates['risk_level'][rates > Descriptive['75%']+1.5*IQR] = 'outliers'\n",
    "\n",
    "San_Cards_Fraud_rates.head()"
   ]
  },
  {
   "cell_type": "markdown",
   "metadata": {},
   "source": [
    "To obtain the popular venues of each neighborhood, we need to acquire the coordinates of their centroids."
   ]
  },
  {
   "cell_type": "code",
   "execution_count": 12,
   "metadata": {},
   "outputs": [
    {
     "data": {
      "text/html": [
       "<div>\n",
       "<style scoped>\n",
       "    .dataframe tbody tr th:only-of-type {\n",
       "        vertical-align: middle;\n",
       "    }\n",
       "\n",
       "    .dataframe tbody tr th {\n",
       "        vertical-align: top;\n",
       "    }\n",
       "\n",
       "    .dataframe thead th {\n",
       "        text-align: right;\n",
       "    }\n",
       "</style>\n",
       "<table border=\"1\" class=\"dataframe\">\n",
       "  <thead>\n",
       "    <tr style=\"text-align: right;\">\n",
       "      <th></th>\n",
       "      <th>Neighborhood</th>\n",
       "      <th>Rates (%)</th>\n",
       "      <th>risk_level</th>\n",
       "      <th>Latitude</th>\n",
       "      <th>Longitude</th>\n",
       "    </tr>\n",
       "  </thead>\n",
       "  <tbody>\n",
       "    <tr>\n",
       "      <th>0</th>\n",
       "      <td>Bayview Hunters Point</td>\n",
       "      <td>2.657361</td>\n",
       "      <td>average</td>\n",
       "      <td>37.730889</td>\n",
       "      <td>-122.386016</td>\n",
       "    </tr>\n",
       "    <tr>\n",
       "      <th>1</th>\n",
       "      <td>Bernal Heights</td>\n",
       "      <td>1.452228</td>\n",
       "      <td>average</td>\n",
       "      <td>37.740364</td>\n",
       "      <td>-122.415664</td>\n",
       "    </tr>\n",
       "    <tr>\n",
       "      <th>2</th>\n",
       "      <td>Castro/Upper Market</td>\n",
       "      <td>3.676088</td>\n",
       "      <td>average</td>\n",
       "      <td>37.762319</td>\n",
       "      <td>-122.435217</td>\n",
       "    </tr>\n",
       "    <tr>\n",
       "      <th>3</th>\n",
       "      <td>Chinatown</td>\n",
       "      <td>2.115485</td>\n",
       "      <td>average</td>\n",
       "      <td>37.796140</td>\n",
       "      <td>-122.407081</td>\n",
       "    </tr>\n",
       "    <tr>\n",
       "      <th>4</th>\n",
       "      <td>Excelsior</td>\n",
       "      <td>1.512918</td>\n",
       "      <td>average</td>\n",
       "      <td>37.718562</td>\n",
       "      <td>-122.431807</td>\n",
       "    </tr>\n",
       "  </tbody>\n",
       "</table>\n",
       "</div>"
      ],
      "text/plain": [
       "            Neighborhood  Rates (%) risk_level   Latitude   Longitude\n",
       "0  Bayview Hunters Point   2.657361    average  37.730889 -122.386016\n",
       "1         Bernal Heights   1.452228    average  37.740364 -122.415664\n",
       "2    Castro/Upper Market   3.676088    average  37.762319 -122.435217\n",
       "3              Chinatown   2.115485    average  37.796140 -122.407081\n",
       "4              Excelsior   1.512918    average  37.718562 -122.431807"
      ]
     },
     "execution_count": 12,
     "metadata": {},
     "output_type": "execute_result"
    }
   ],
   "source": [
    "Lat = []\n",
    "Lon = []\n",
    "\n",
    "for i in range(San_Cards_Fraud_rates.shape[0]):\n",
    "    # get the centroid of each neighborhood's polygon\n",
    "    for k in range(len(Analysis_Neighborhoods['features'])):\n",
    "        multi = shape(Analysis_Neighborhoods['features'][k]['geometry'])\n",
    "        # match each neighborhood with their polygon\n",
    "        if San_Cards_Fraud_rates['Neighborhood'][i]==Analysis_Neighborhoods['features'][k]['properties']['nhood']:\n",
    "            Lat.append(multi.centroid.y)\n",
    "            Lon.append(multi.centroid.x)\n",
    "            \n",
    "San_Cards_Fraud_rates['Latitude']=Lat\n",
    "San_Cards_Fraud_rates['Longitude']=Lon\n",
    "San_Cards_Fraud_rates.head()"
   ]
  },
  {
   "cell_type": "markdown",
   "metadata": {},
   "source": [
    "We can also draw a choropleth of cards' fraud rates in San Francisco to see the difference."
   ]
  },
  {
   "cell_type": "code",
   "execution_count": 18,
   "metadata": {},
   "outputs": [
    {
     "data": {
      "text/html": [
       "\n",
       "        <iframe\n",
       "            width=\"100%\"\n",
       "            height=\"750px\"\n",
       "            src=\"Map.html\"\n",
       "            frameborder=\"0\"\n",
       "            allowfullscreen\n",
       "        ></iframe>\n",
       "        "
      ],
      "text/plain": [
       "<IPython.lib.display.IFrame at 0x7f6e81abfc50>"
      ]
     },
     "execution_count": 18,
     "metadata": {},
     "output_type": "execute_result"
    }
   ],
   "source": [
    "import folium\n",
    "\n",
    "latitude = 37.77\n",
    "longitude = -122.42\n",
    "\n",
    "# create a plain world map\n",
    "Fraud_map = folium.Map(location=[latitude, longitude], zoom_start=12)\n",
    "\n",
    "Fraud_map.choropleth(\n",
    "    geo_data=Analysis_Neighborhoods,\n",
    "    data=San_Cards_Fraud_rates,\n",
    "    columns=['Neighborhood', 'Rates (%)'],\n",
    "    key_on='feature.properties.nhood',\n",
    "    fill_color='YlOrRd', \n",
    "    fill_opacity=0.7, \n",
    "    line_opacity=0.2,\n",
    "    legend_name=\"Cards Fraud Rates in San Francisco\"\n",
    ")\n",
    "\n",
    "# display map\n",
    "Fraud_map.save('Map.html')\n",
    "from IPython.display import IFrame\n",
    "IFrame('Map.html', width='100%', height='750px')"
   ]
  },
  {
   "cell_type": "markdown",
   "metadata": {},
   "source": [
    "### Credit card fraud rates of neighborhoods in Chicago"
   ]
  },
  {
   "cell_type": "code",
   "execution_count": 13,
   "metadata": {},
   "outputs": [],
   "source": [
    "# load the json file of Chicago's neighborhoods\n",
    "with open('Neighborhoods_2012_polygons.json') as json_data:\n",
    "    Chicago_Neighborhoods = json.load(json_data)"
   ]
  },
  {
   "cell_type": "code",
   "execution_count": 14,
   "metadata": {},
   "outputs": [
    {
     "name": "stdout",
     "output_type": "stream",
     "text": [
      "(76, 2)\n"
     ]
    },
    {
     "data": {
      "text/html": [
       "<div>\n",
       "<style scoped>\n",
       "    .dataframe tbody tr th:only-of-type {\n",
       "        vertical-align: middle;\n",
       "    }\n",
       "\n",
       "    .dataframe tbody tr th {\n",
       "        vertical-align: top;\n",
       "    }\n",
       "\n",
       "    .dataframe thead th {\n",
       "        text-align: right;\n",
       "    }\n",
       "</style>\n",
       "<table border=\"1\" class=\"dataframe\">\n",
       "  <thead>\n",
       "    <tr style=\"text-align: right;\">\n",
       "      <th></th>\n",
       "      <th>Neighborhood</th>\n",
       "      <th>Rates (%)</th>\n",
       "    </tr>\n",
       "  </thead>\n",
       "  <tbody>\n",
       "    <tr>\n",
       "      <th>0</th>\n",
       "      <td>ANDERSONVILLE</td>\n",
       "      <td>0.256231</td>\n",
       "    </tr>\n",
       "    <tr>\n",
       "      <th>1</th>\n",
       "      <td>ARCHER HEIGHTS,WEST ELSDON</td>\n",
       "      <td>0.419287</td>\n",
       "    </tr>\n",
       "    <tr>\n",
       "      <th>2</th>\n",
       "      <td>ARMOUR SQUARE,CHINATOWN</td>\n",
       "      <td>0.419287</td>\n",
       "    </tr>\n",
       "    <tr>\n",
       "      <th>3</th>\n",
       "      <td>ASHBURN</td>\n",
       "      <td>0.722106</td>\n",
       "    </tr>\n",
       "    <tr>\n",
       "      <th>4</th>\n",
       "      <td>AUBURN GRESHAM</td>\n",
       "      <td>1.118099</td>\n",
       "    </tr>\n",
       "    <tr>\n",
       "      <th>5</th>\n",
       "      <td>AUSTIN</td>\n",
       "      <td>2.003261</td>\n",
       "    </tr>\n",
       "    <tr>\n",
       "      <th>6</th>\n",
       "      <td>AVALON PARK,CALUMET HEIGHTS</td>\n",
       "      <td>0.628931</td>\n",
       "    </tr>\n",
       "    <tr>\n",
       "      <th>7</th>\n",
       "      <td>BACK OF THE YARDS</td>\n",
       "      <td>0.768693</td>\n",
       "    </tr>\n",
       "    <tr>\n",
       "      <th>8</th>\n",
       "      <td>BELMONT CRAGIN,HERMOSA</td>\n",
       "      <td>0.652225</td>\n",
       "    </tr>\n",
       "    <tr>\n",
       "      <th>9</th>\n",
       "      <td>BELMONT CRAIGIN,HERMOSA</td>\n",
       "      <td>0.209644</td>\n",
       "    </tr>\n",
       "    <tr>\n",
       "      <th>10</th>\n",
       "      <td>BEVERLY</td>\n",
       "      <td>0.256231</td>\n",
       "    </tr>\n",
       "    <tr>\n",
       "      <th>11</th>\n",
       "      <td>BRIDGEPORT</td>\n",
       "      <td>0.465875</td>\n",
       "    </tr>\n",
       "    <tr>\n",
       "      <th>12</th>\n",
       "      <td>BRIGHTON PARK,MCKINLEY PARK</td>\n",
       "      <td>0.628931</td>\n",
       "    </tr>\n",
       "    <tr>\n",
       "      <th>13</th>\n",
       "      <td>BRONZEVILLE</td>\n",
       "      <td>1.863499</td>\n",
       "    </tr>\n",
       "    <tr>\n",
       "      <th>14</th>\n",
       "      <td>BUCKTOWN</td>\n",
       "      <td>0.885162</td>\n",
       "    </tr>\n",
       "    <tr>\n",
       "      <th>15</th>\n",
       "      <td>CHATHAM,BURNSIDE</td>\n",
       "      <td>1.420918</td>\n",
       "    </tr>\n",
       "    <tr>\n",
       "      <th>16</th>\n",
       "      <td>DUNNING</td>\n",
       "      <td>0.256231</td>\n",
       "    </tr>\n",
       "    <tr>\n",
       "      <th>17</th>\n",
       "      <td>EDGEWATER</td>\n",
       "      <td>0.908456</td>\n",
       "    </tr>\n",
       "    <tr>\n",
       "      <th>18</th>\n",
       "      <td>EDISON PARK</td>\n",
       "      <td>0.023294</td>\n",
       "    </tr>\n",
       "    <tr>\n",
       "      <th>19</th>\n",
       "      <td>ENGLEWOOD</td>\n",
       "      <td>1.374330</td>\n",
       "    </tr>\n",
       "    <tr>\n",
       "      <th>20</th>\n",
       "      <td>GARFIELD PARK</td>\n",
       "      <td>0.791987</td>\n",
       "    </tr>\n",
       "    <tr>\n",
       "      <th>21</th>\n",
       "      <td>GOLD COAST</td>\n",
       "      <td>0.768693</td>\n",
       "    </tr>\n",
       "    <tr>\n",
       "      <th>22</th>\n",
       "      <td>GRANT PARK</td>\n",
       "      <td>0.232937</td>\n",
       "    </tr>\n",
       "    <tr>\n",
       "      <th>23</th>\n",
       "      <td>GREEKTOWN</td>\n",
       "      <td>0.186350</td>\n",
       "    </tr>\n",
       "    <tr>\n",
       "      <th>24</th>\n",
       "      <td>HUMBOLDT PARK</td>\n",
       "      <td>1.583974</td>\n",
       "    </tr>\n",
       "    <tr>\n",
       "      <th>25</th>\n",
       "      <td>HYDE PARK</td>\n",
       "      <td>0.838574</td>\n",
       "    </tr>\n",
       "    <tr>\n",
       "      <th>26</th>\n",
       "      <td>IRVING PARK,AVONDALE</td>\n",
       "      <td>1.607268</td>\n",
       "    </tr>\n",
       "    <tr>\n",
       "      <th>27</th>\n",
       "      <td>JACKSON PARK</td>\n",
       "      <td>0.046587</td>\n",
       "    </tr>\n",
       "    <tr>\n",
       "      <th>28</th>\n",
       "      <td>JEFFERSON PARK</td>\n",
       "      <td>0.256231</td>\n",
       "    </tr>\n",
       "    <tr>\n",
       "      <th>29</th>\n",
       "      <td>KENWOOD,OAKLAND</td>\n",
       "      <td>0.512462</td>\n",
       "    </tr>\n",
       "    <tr>\n",
       "      <th>...</th>\n",
       "      <td>...</td>\n",
       "      <td>...</td>\n",
       "    </tr>\n",
       "    <tr>\n",
       "      <th>46</th>\n",
       "      <td>NORTH LAWNDALE</td>\n",
       "      <td>0.861868</td>\n",
       "    </tr>\n",
       "    <tr>\n",
       "      <th>47</th>\n",
       "      <td>NORTH PARK,ALBANY PARK</td>\n",
       "      <td>0.838574</td>\n",
       "    </tr>\n",
       "    <tr>\n",
       "      <th>48</th>\n",
       "      <td>NORWOOD PARK</td>\n",
       "      <td>0.489168</td>\n",
       "    </tr>\n",
       "    <tr>\n",
       "      <th>49</th>\n",
       "      <td>OAKLAND,KENWOOD</td>\n",
       "      <td>0.232937</td>\n",
       "    </tr>\n",
       "    <tr>\n",
       "      <th>50</th>\n",
       "      <td>OLD TOWN</td>\n",
       "      <td>1.653855</td>\n",
       "    </tr>\n",
       "    <tr>\n",
       "      <th>51</th>\n",
       "      <td>PORTAGE PARK</td>\n",
       "      <td>1.024924</td>\n",
       "    </tr>\n",
       "    <tr>\n",
       "      <th>52</th>\n",
       "      <td>PRINTERS ROW</td>\n",
       "      <td>0.838574</td>\n",
       "    </tr>\n",
       "    <tr>\n",
       "      <th>53</th>\n",
       "      <td>PULLMAN</td>\n",
       "      <td>0.116469</td>\n",
       "    </tr>\n",
       "    <tr>\n",
       "      <th>54</th>\n",
       "      <td>RIVER NORTH</td>\n",
       "      <td>9.457256</td>\n",
       "    </tr>\n",
       "    <tr>\n",
       "      <th>55</th>\n",
       "      <td>RIVERDALE</td>\n",
       "      <td>0.186350</td>\n",
       "    </tr>\n",
       "    <tr>\n",
       "      <th>56</th>\n",
       "      <td>ROGERS PARK</td>\n",
       "      <td>0.815281</td>\n",
       "    </tr>\n",
       "    <tr>\n",
       "      <th>57</th>\n",
       "      <td>RUSH &amp; DIVISION</td>\n",
       "      <td>1.467505</td>\n",
       "    </tr>\n",
       "    <tr>\n",
       "      <th>58</th>\n",
       "      <td>SAUGANASH,FOREST GLEN</td>\n",
       "      <td>0.093175</td>\n",
       "    </tr>\n",
       "    <tr>\n",
       "      <th>59</th>\n",
       "      <td>SHEFFIELD &amp; DEPAUL</td>\n",
       "      <td>0.395993</td>\n",
       "    </tr>\n",
       "    <tr>\n",
       "      <th>60</th>\n",
       "      <td>SOUTH CHICAGO</td>\n",
       "      <td>0.512462</td>\n",
       "    </tr>\n",
       "    <tr>\n",
       "      <th>61</th>\n",
       "      <td>SOUTH SHORE, GRAND CROSSING</td>\n",
       "      <td>2.515723</td>\n",
       "    </tr>\n",
       "    <tr>\n",
       "      <th>62</th>\n",
       "      <td>SOUTHEAST SIDE</td>\n",
       "      <td>0.815281</td>\n",
       "    </tr>\n",
       "    <tr>\n",
       "      <th>63</th>\n",
       "      <td>STREETERVILLE</td>\n",
       "      <td>5.660377</td>\n",
       "    </tr>\n",
       "    <tr>\n",
       "      <th>64</th>\n",
       "      <td>UKRAINIAN VILLAGE AND EAST VILLAGE</td>\n",
       "      <td>0.605637</td>\n",
       "    </tr>\n",
       "    <tr>\n",
       "      <th>65</th>\n",
       "      <td>UNITED CENTER</td>\n",
       "      <td>0.861868</td>\n",
       "    </tr>\n",
       "    <tr>\n",
       "      <th>66</th>\n",
       "      <td>UPTOWN</td>\n",
       "      <td>2.236198</td>\n",
       "    </tr>\n",
       "    <tr>\n",
       "      <th>67</th>\n",
       "      <td>WASHINGTON HEIGHTS,ROSELAND</td>\n",
       "      <td>1.630561</td>\n",
       "    </tr>\n",
       "    <tr>\n",
       "      <th>68</th>\n",
       "      <td>WASHINGTON PARK</td>\n",
       "      <td>0.395993</td>\n",
       "    </tr>\n",
       "    <tr>\n",
       "      <th>69</th>\n",
       "      <td>WEST LAWN</td>\n",
       "      <td>0.419287</td>\n",
       "    </tr>\n",
       "    <tr>\n",
       "      <th>70</th>\n",
       "      <td>WEST LOOP</td>\n",
       "      <td>3.470766</td>\n",
       "    </tr>\n",
       "    <tr>\n",
       "      <th>71</th>\n",
       "      <td>WEST PULLMAN</td>\n",
       "      <td>0.559050</td>\n",
       "    </tr>\n",
       "    <tr>\n",
       "      <th>72</th>\n",
       "      <td>WEST RIDGE</td>\n",
       "      <td>1.118099</td>\n",
       "    </tr>\n",
       "    <tr>\n",
       "      <th>73</th>\n",
       "      <td>WICKER PARK,WEST TOWN</td>\n",
       "      <td>2.935010</td>\n",
       "    </tr>\n",
       "    <tr>\n",
       "      <th>74</th>\n",
       "      <td>WOODLAWN</td>\n",
       "      <td>0.675518</td>\n",
       "    </tr>\n",
       "    <tr>\n",
       "      <th>75</th>\n",
       "      <td>WRIGLEYVILLE</td>\n",
       "      <td>0.302819</td>\n",
       "    </tr>\n",
       "  </tbody>\n",
       "</table>\n",
       "<p>76 rows × 2 columns</p>\n",
       "</div>"
      ],
      "text/plain": [
       "                          Neighborhood  Rates (%)\n",
       "0                        ANDERSONVILLE   0.256231\n",
       "1           ARCHER HEIGHTS,WEST ELSDON   0.419287\n",
       "2              ARMOUR SQUARE,CHINATOWN   0.419287\n",
       "3                              ASHBURN   0.722106\n",
       "4                       AUBURN GRESHAM   1.118099\n",
       "5                               AUSTIN   2.003261\n",
       "6          AVALON PARK,CALUMET HEIGHTS   0.628931\n",
       "7                    BACK OF THE YARDS   0.768693\n",
       "8               BELMONT CRAGIN,HERMOSA   0.652225\n",
       "9              BELMONT CRAIGIN,HERMOSA   0.209644\n",
       "10                             BEVERLY   0.256231\n",
       "11                          BRIDGEPORT   0.465875\n",
       "12         BRIGHTON PARK,MCKINLEY PARK   0.628931\n",
       "13                         BRONZEVILLE   1.863499\n",
       "14                            BUCKTOWN   0.885162\n",
       "15                    CHATHAM,BURNSIDE   1.420918\n",
       "16                             DUNNING   0.256231\n",
       "17                           EDGEWATER   0.908456\n",
       "18                         EDISON PARK   0.023294\n",
       "19                           ENGLEWOOD   1.374330\n",
       "20                       GARFIELD PARK   0.791987\n",
       "21                          GOLD COAST   0.768693\n",
       "22                          GRANT PARK   0.232937\n",
       "23                           GREEKTOWN   0.186350\n",
       "24                       HUMBOLDT PARK   1.583974\n",
       "25                           HYDE PARK   0.838574\n",
       "26                IRVING PARK,AVONDALE   1.607268\n",
       "27                        JACKSON PARK   0.046587\n",
       "28                      JEFFERSON PARK   0.256231\n",
       "29                     KENWOOD,OAKLAND   0.512462\n",
       "..                                 ...        ...\n",
       "46                      NORTH LAWNDALE   0.861868\n",
       "47              NORTH PARK,ALBANY PARK   0.838574\n",
       "48                        NORWOOD PARK   0.489168\n",
       "49                     OAKLAND,KENWOOD   0.232937\n",
       "50                            OLD TOWN   1.653855\n",
       "51                        PORTAGE PARK   1.024924\n",
       "52                        PRINTERS ROW   0.838574\n",
       "53                             PULLMAN   0.116469\n",
       "54                         RIVER NORTH   9.457256\n",
       "55                           RIVERDALE   0.186350\n",
       "56                         ROGERS PARK   0.815281\n",
       "57                     RUSH & DIVISION   1.467505\n",
       "58               SAUGANASH,FOREST GLEN   0.093175\n",
       "59                  SHEFFIELD & DEPAUL   0.395993\n",
       "60                       SOUTH CHICAGO   0.512462\n",
       "61         SOUTH SHORE, GRAND CROSSING   2.515723\n",
       "62                      SOUTHEAST SIDE   0.815281\n",
       "63                       STREETERVILLE   5.660377\n",
       "64  UKRAINIAN VILLAGE AND EAST VILLAGE   0.605637\n",
       "65                       UNITED CENTER   0.861868\n",
       "66                              UPTOWN   2.236198\n",
       "67         WASHINGTON HEIGHTS,ROSELAND   1.630561\n",
       "68                     WASHINGTON PARK   0.395993\n",
       "69                           WEST LAWN   0.419287\n",
       "70                           WEST LOOP   3.470766\n",
       "71                        WEST PULLMAN   0.559050\n",
       "72                          WEST RIDGE   1.118099\n",
       "73               WICKER PARK,WEST TOWN   2.935010\n",
       "74                            WOODLAWN   0.675518\n",
       "75                        WRIGLEYVILLE   0.302819\n",
       "\n",
       "[76 rows x 2 columns]"
      ]
     },
     "execution_count": 14,
     "metadata": {},
     "output_type": "execute_result"
    }
   ],
   "source": [
    "#calculate credit card fraud rates of each nieghborhood\n",
    "Counts = Chi_Cards_Fraud.groupby('Neighborhood').count()['Category']\n",
    "Chi_Cards_Fraud_rates = Chi_Cards_Fraud.groupby('Neighborhood').count()\n",
    "Chi_Cards_Fraud_rates['Rates (%)'] = Counts*100/sum(Counts)\n",
    "Chi_Cards_Fraud_rates.drop(['Category','Description','Latitude','Longitude'], axis=1, inplace=True)\n",
    "Chi_Cards_Fraud_rates = Chi_Cards_Fraud_rates.reset_index()\n",
    "print(Chi_Cards_Fraud_rates.shape)\n",
    "Chi_Cards_Fraud_rates"
   ]
  },
  {
   "cell_type": "markdown",
   "metadata": {},
   "source": [
    "There are only 76 neighborhoods with cards' fraud data, however there are 78 neighborhoods in Chicago according to the json file. Therefore, we need to append the missing neighborhoods and set their cards' fraud rates to zero."
   ]
  },
  {
   "cell_type": "code",
   "execution_count": 15,
   "metadata": {},
   "outputs": [],
   "source": [
    "for i in range(len(Chicago_Neighborhoods['features'])):\n",
    "    if Chicago_Neighborhoods['features'][i]['properties']['SEC_NEIGH'] not in list(Chi_Cards_Fraud_rates['Neighborhood']):\n",
    "        Chi_Cards_Fraud_rates = Chi_Cards_Fraud_rates.append({'Neighborhood':Chicago_Neighborhoods['features'][i]['properties']['SEC_NEIGH'], 'Rates (%)':0},\n",
    "                                                             ignore_index=True)"
   ]
  },
  {
   "cell_type": "code",
   "execution_count": 16,
   "metadata": {},
   "outputs": [
    {
     "data": {
      "text/plain": [
       "(78, 2)"
      ]
     },
     "execution_count": 16,
     "metadata": {},
     "output_type": "execute_result"
    }
   ],
   "source": [
    "Chi_Cards_Fraud_rates.shape"
   ]
  },
  {
   "cell_type": "markdown",
   "metadata": {},
   "source": [
    "Let's draw a boxplot to see the distribution of credit card fraud rates of neighborhoods."
   ]
  },
  {
   "cell_type": "code",
   "execution_count": 23,
   "metadata": {},
   "outputs": [
    {
     "data": {
      "image/png": "[encoded data removed]",
      "text/plain": [
       "<Figure size 576x432 with 1 Axes>"
      ]
     },
     "metadata": {
      "needs_background": "light"
     },
     "output_type": "display_data"
    }
   ],
   "source": [
    "Chi_Cards_Fraud_rates['Rates (%)'].plot(kind='box', figsize=(8, 6))\n",
    "\n",
    "plt.title(\"Box plot of Cards' fraud rates of Chicago's neighborhoods\")\n",
    "plt.ylabel('Rates in percents')\n",
    "\n",
    "plt.show()"
   ]
  },
  {
   "cell_type": "code",
   "execution_count": 17,
   "metadata": {},
   "outputs": [
    {
     "data": {
      "text/plain": [
       "count    78.000000\n",
       "mean      1.282051\n",
       "std       2.362805\n",
       "min       0.000000\n",
       "25%       0.401817\n",
       "50%       0.768693\n",
       "75%       1.269509\n",
       "max      18.169113\n",
       "Name: Rates (%), dtype: float64"
      ]
     },
     "execution_count": 17,
     "metadata": {},
     "output_type": "execute_result"
    }
   ],
   "source": [
    "# Descriptive statistics for credit card fraud rates of neighborhoods\n",
    "Descriptive = Chi_Cards_Fraud_rates['Rates (%)'].describe()\n",
    "Descriptive"
   ]
  },
  {
   "cell_type": "markdown",
   "metadata": {},
   "source": [
    "Again, we saw there're some outliers with exclusively high credit card fraud rates. Thus, we labeled the neighborhoods into two categories which are average (not outliers) and outliers (over 75 quantile + 1.5 IQR)."
   ]
  },
  {
   "cell_type": "code",
   "execution_count": 18,
   "metadata": {},
   "outputs": [
    {
     "name": "stderr",
     "output_type": "stream",
     "text": [
      "/home/jupyterlab/conda/lib/python3.6/site-packages/ipykernel_launcher.py:5: SettingWithCopyWarning: \n",
      "A value is trying to be set on a copy of a slice from a DataFrame\n",
      "\n",
      "See the caveats in the documentation: http://pandas.pydata.org/pandas-docs/stable/indexing.html#indexing-view-versus-copy\n",
      "  \"\"\"\n",
      "/home/jupyterlab/conda/lib/python3.6/site-packages/ipykernel_launcher.py:6: SettingWithCopyWarning: \n",
      "A value is trying to be set on a copy of a slice from a DataFrame\n",
      "\n",
      "See the caveats in the documentation: http://pandas.pydata.org/pandas-docs/stable/indexing.html#indexing-view-versus-copy\n",
      "  \n"
     ]
    },
    {
     "data": {
      "text/html": [
       "<div>\n",
       "<style scoped>\n",
       "    .dataframe tbody tr th:only-of-type {\n",
       "        vertical-align: middle;\n",
       "    }\n",
       "\n",
       "    .dataframe tbody tr th {\n",
       "        vertical-align: top;\n",
       "    }\n",
       "\n",
       "    .dataframe thead th {\n",
       "        text-align: right;\n",
       "    }\n",
       "</style>\n",
       "<table border=\"1\" class=\"dataframe\">\n",
       "  <thead>\n",
       "    <tr style=\"text-align: right;\">\n",
       "      <th></th>\n",
       "      <th>Neighborhood</th>\n",
       "      <th>Rates (%)</th>\n",
       "      <th>risk_level</th>\n",
       "    </tr>\n",
       "  </thead>\n",
       "  <tbody>\n",
       "    <tr>\n",
       "      <th>0</th>\n",
       "      <td>ANDERSONVILLE</td>\n",
       "      <td>0.256231</td>\n",
       "      <td>average</td>\n",
       "    </tr>\n",
       "    <tr>\n",
       "      <th>1</th>\n",
       "      <td>ARCHER HEIGHTS,WEST ELSDON</td>\n",
       "      <td>0.419287</td>\n",
       "      <td>average</td>\n",
       "    </tr>\n",
       "    <tr>\n",
       "      <th>2</th>\n",
       "      <td>ARMOUR SQUARE,CHINATOWN</td>\n",
       "      <td>0.419287</td>\n",
       "      <td>average</td>\n",
       "    </tr>\n",
       "    <tr>\n",
       "      <th>3</th>\n",
       "      <td>ASHBURN</td>\n",
       "      <td>0.722106</td>\n",
       "      <td>average</td>\n",
       "    </tr>\n",
       "    <tr>\n",
       "      <th>4</th>\n",
       "      <td>AUBURN GRESHAM</td>\n",
       "      <td>1.118099</td>\n",
       "      <td>average</td>\n",
       "    </tr>\n",
       "  </tbody>\n",
       "</table>\n",
       "</div>"
      ],
      "text/plain": [
       "                 Neighborhood  Rates (%) risk_level\n",
       "0               ANDERSONVILLE   0.256231    average\n",
       "1  ARCHER HEIGHTS,WEST ELSDON   0.419287    average\n",
       "2     ARMOUR SQUARE,CHINATOWN   0.419287    average\n",
       "3                     ASHBURN   0.722106    average\n",
       "4              AUBURN GRESHAM   1.118099    average"
      ]
     },
     "execution_count": 18,
     "metadata": {},
     "output_type": "execute_result"
    }
   ],
   "source": [
    "rates = Chi_Cards_Fraud_rates['Rates (%)']\n",
    "risk_level = list(np.zeros_like(rates))\n",
    "Chi_Cards_Fraud_rates['risk_level'] = risk_level\n",
    "IQR = Descriptive['75%']-Descriptive['25%']\n",
    "Chi_Cards_Fraud_rates['risk_level'][rates <= Descriptive['75%']+1.5*IQR] = 'average'\n",
    "Chi_Cards_Fraud_rates['risk_level'][rates > Descriptive['75%']+1.5*IQR] = 'outliers'\n",
    "\n",
    "Chi_Cards_Fraud_rates.head()"
   ]
  },
  {
   "cell_type": "markdown",
   "metadata": {},
   "source": [
    "To obtain the popular venues of each neighborhood, we need to acquire the coordinates of their centroids."
   ]
  },
  {
   "cell_type": "code",
   "execution_count": 19,
   "metadata": {},
   "outputs": [
    {
     "data": {
      "text/html": [
       "<div>\n",
       "<style scoped>\n",
       "    .dataframe tbody tr th:only-of-type {\n",
       "        vertical-align: middle;\n",
       "    }\n",
       "\n",
       "    .dataframe tbody tr th {\n",
       "        vertical-align: top;\n",
       "    }\n",
       "\n",
       "    .dataframe thead th {\n",
       "        text-align: right;\n",
       "    }\n",
       "</style>\n",
       "<table border=\"1\" class=\"dataframe\">\n",
       "  <thead>\n",
       "    <tr style=\"text-align: right;\">\n",
       "      <th></th>\n",
       "      <th>Neighborhood</th>\n",
       "      <th>Rates (%)</th>\n",
       "      <th>risk_level</th>\n",
       "      <th>Latitude</th>\n",
       "      <th>Longitude</th>\n",
       "    </tr>\n",
       "  </thead>\n",
       "  <tbody>\n",
       "    <tr>\n",
       "      <th>0</th>\n",
       "      <td>ANDERSONVILLE</td>\n",
       "      <td>0.256231</td>\n",
       "      <td>average</td>\n",
       "      <td>41.979854</td>\n",
       "      <td>-87.667865</td>\n",
       "    </tr>\n",
       "    <tr>\n",
       "      <th>1</th>\n",
       "      <td>ARCHER HEIGHTS,WEST ELSDON</td>\n",
       "      <td>0.419287</td>\n",
       "      <td>average</td>\n",
       "      <td>41.810880</td>\n",
       "      <td>-87.726363</td>\n",
       "    </tr>\n",
       "    <tr>\n",
       "      <th>2</th>\n",
       "      <td>ARMOUR SQUARE,CHINATOWN</td>\n",
       "      <td>0.419287</td>\n",
       "      <td>average</td>\n",
       "      <td>41.836091</td>\n",
       "      <td>-87.633222</td>\n",
       "    </tr>\n",
       "    <tr>\n",
       "      <th>3</th>\n",
       "      <td>ASHBURN</td>\n",
       "      <td>0.722106</td>\n",
       "      <td>average</td>\n",
       "      <td>41.745757</td>\n",
       "      <td>-87.708365</td>\n",
       "    </tr>\n",
       "    <tr>\n",
       "      <th>4</th>\n",
       "      <td>AUBURN GRESHAM</td>\n",
       "      <td>1.118099</td>\n",
       "      <td>average</td>\n",
       "      <td>41.744205</td>\n",
       "      <td>-87.656307</td>\n",
       "    </tr>\n",
       "  </tbody>\n",
       "</table>\n",
       "</div>"
      ],
      "text/plain": [
       "                 Neighborhood  Rates (%) risk_level   Latitude  Longitude\n",
       "0               ANDERSONVILLE   0.256231    average  41.979854 -87.667865\n",
       "1  ARCHER HEIGHTS,WEST ELSDON   0.419287    average  41.810880 -87.726363\n",
       "2     ARMOUR SQUARE,CHINATOWN   0.419287    average  41.836091 -87.633222\n",
       "3                     ASHBURN   0.722106    average  41.745757 -87.708365\n",
       "4              AUBURN GRESHAM   1.118099    average  41.744205 -87.656307"
      ]
     },
     "execution_count": 19,
     "metadata": {},
     "output_type": "execute_result"
    }
   ],
   "source": [
    "Lat = []\n",
    "Lon = []\n",
    "\n",
    "for i in range(Chi_Cards_Fraud_rates.shape[0]):\n",
    "    # get the centroid of each neighborhood's polygon\n",
    "    for k in range(len(Chicago_Neighborhoods['features'])):\n",
    "        multi = shape(Chicago_Neighborhoods['features'][k]['geometry'])\n",
    "        # match each neighborhood with their polygon\n",
    "        if Chi_Cards_Fraud_rates['Neighborhood'][i]==Chicago_Neighborhoods['features'][k]['properties']['SEC_NEIGH']:\n",
    "            Lat.append(multi.centroid.y)\n",
    "            Lon.append(multi.centroid.x)\n",
    "            break\n",
    "            \n",
    "Chi_Cards_Fraud_rates['Latitude']=Lat\n",
    "Chi_Cards_Fraud_rates['Longitude']=Lon\n",
    "Chi_Cards_Fraud_rates.head()"
   ]
  },
  {
   "cell_type": "markdown",
   "metadata": {},
   "source": [
    "### Scraping data of popular venues from Foursquare API"
   ]
  },
  {
   "cell_type": "code",
   "execution_count": 20,
   "metadata": {},
   "outputs": [],
   "source": [
    "import requests # library to handle requests\n",
    "from pandas.io.json import json_normalize # tranform JSON file into a pandas dataframe"
   ]
  },
  {
   "cell_type": "markdown",
   "metadata": {},
   "source": [
    "Define Foursquare Credentials and Version"
   ]
  },
  {
   "cell_type": "code",
   "execution_count": 16,
   "metadata": {},
   "outputs": [
    {
     "name": "stdout",
     "output_type": "stream",
     "text": [
      "Your credentails:\n",
      "CLIENT_ID: W5MC3D2YN3TRKIYR3DYNSETNTWM3NB54OXFRMCBJ2PHSV1F1\n",
      "CLIENT_SECRET:DEXOA5GGMPUONILBNDMNXZEKF4AMWOX5YA4ZSPJRSUQ4BHW1\n"
     ]
    }
   ],
   "source": [
    "CLIENT_ID = 'W5MC3D2YN3TRKIYR3DYNSETNTWM3NB54OXFRMCBJ2PHSV1F1' # your Foursquare ID\n",
    "CLIENT_SECRET = 'DEXOA5GGMPUONILBNDMNXZEKF4AMWOX5YA4ZSPJRSUQ4BHW1' # your Foursquare Secret\n",
    "VERSION = '20180605' # Foursquare API version\n",
    "\n",
    "print('Your credentails:')\n",
    "print('CLIENT_ID: ' + CLIENT_ID)\n",
    "print('CLIENT_SECRET:' + CLIENT_SECRET)"
   ]
  },
  {
   "cell_type": "markdown",
   "metadata": {},
   "source": [
    "From the Foursquare lab in the previous module, we know that all the information is in the *items* key. Before we proceed, let's borrow the **get_category_type** function from the Foursquare lab."
   ]
  },
  {
   "cell_type": "code",
   "execution_count": 18,
   "metadata": {},
   "outputs": [],
   "source": [
    "# function that extracts the category of the venue\n",
    "def get_category_type(row):\n",
    "    try:\n",
    "        categories_list = row['categories']\n",
    "    except:\n",
    "        categories_list = row['venue.categories']\n",
    "        \n",
    "    if len(categories_list) == 0:\n",
    "        return None\n",
    "    else:\n",
    "        return categories_list[0]['name']"
   ]
  },
  {
   "cell_type": "markdown",
   "metadata": {},
   "source": [
    "Let's create a function to repeat the process exploring each neighborhood"
   ]
  },
  {
   "cell_type": "code",
   "execution_count": 19,
   "metadata": {},
   "outputs": [],
   "source": [
    "def getNearbyVenues(names, latitudes, longitudes, radius=500, LIMIT=100):\n",
    "    \n",
    "    venues_list=[]\n",
    "    for name, lat, lng in zip(names, latitudes, longitudes):\n",
    "        print(name)\n",
    "            \n",
    "        # create the API request URL\n",
    "        url = 'https://api.foursquare.com/v2/venues/explore?&client_id={}&client_secret={}&v={}&ll={},{}&radius={}&limit={}'.format(\n",
    "            CLIENT_ID, \n",
    "            CLIENT_SECRET, \n",
    "            VERSION, \n",
    "            lat, \n",
    "            lng, \n",
    "            radius, \n",
    "            LIMIT)\n",
    "            \n",
    "        # make the GET request\n",
    "        results = requests.get(url).json()[\"response\"]['groups'][0]['items']\n",
    "        \n",
    "        # return only relevant information for each nearby venue\n",
    "        venues_list.append([(\n",
    "            name, \n",
    "            lat, \n",
    "            lng, \n",
    "            v['venue']['name'], \n",
    "            v['venue']['location']['lat'], \n",
    "            v['venue']['location']['lng'],  \n",
    "            v['venue']['categories'][0]['name']) for v in results])\n",
    "\n",
    "    nearby_venues = pd.DataFrame([item for venue_list in venues_list for item in venue_list])\n",
    "    nearby_venues.columns = ['Neighborhood', \n",
    "                  'Neighborhood Latitude', \n",
    "                  'Neighborhood Longitude', \n",
    "                  'Venue', \n",
    "                  'Venue Latitude', \n",
    "                  'Venue Longitude', \n",
    "                  'Venue Category']\n",
    "    \n",
    "    return(nearby_venues)"
   ]
  },
  {
   "cell_type": "markdown",
   "metadata": {},
   "source": [
    "#### San Francisco data as training set"
   ]
  },
  {
   "cell_type": "markdown",
   "metadata": {},
   "source": [
    "Now write the code to run the above function on each neighborhood and create a new dataframe called *SanFran_venues*."
   ]
  },
  {
   "cell_type": "code",
   "execution_count": 20,
   "metadata": {},
   "outputs": [
    {
     "name": "stdout",
     "output_type": "stream",
     "text": [
      "Bayview Hunters Point\n",
      "Bernal Heights\n",
      "Castro/Upper Market\n",
      "Chinatown\n",
      "Excelsior\n",
      "Financial District/South Beach\n",
      "Glen Park\n",
      "Golden Gate Park\n",
      "Haight Ashbury\n",
      "Hayes Valley\n",
      "Inner Richmond\n",
      "Inner Sunset\n",
      "Japantown\n",
      "Lakeshore\n",
      "Lincoln Park\n",
      "Lone Mountain/USF\n",
      "Marina\n",
      "McLaren Park\n",
      "Mission\n",
      "Mission Bay\n",
      "Nob Hill\n",
      "Noe Valley\n",
      "North Beach\n",
      "Oceanview/Merced/Ingleside\n",
      "Outer Mission\n",
      "Outer Richmond\n",
      "Pacific Heights\n",
      "Portola\n",
      "Potrero Hill\n",
      "Presidio\n",
      "Presidio Heights\n",
      "Russian Hill\n",
      "Seacliff\n",
      "South of Market\n",
      "Sunset/Parkside\n",
      "Tenderloin\n",
      "Treasure Island\n",
      "Twin Peaks\n",
      "Visitacion Valley\n",
      "West of Twin Peaks\n",
      "Western Addition\n"
     ]
    }
   ],
   "source": [
    "SanFran_venues = getNearbyVenues(names=San_Cards_Fraud_rates['Neighborhood'],\n",
    "                                   latitudes=San_Cards_Fraud_rates['Latitude'],\n",
    "                                   longitudes=San_Cards_Fraud_rates['Longitude']\n",
    "                                  )"
   ]
  },
  {
   "cell_type": "code",
   "execution_count": 21,
   "metadata": {},
   "outputs": [],
   "source": [
    "# save the work\n",
    "SanFran_venues.to_csv('SanFran_venues.csv')"
   ]
  },
  {
   "cell_type": "code",
   "execution_count": 27,
   "metadata": {},
   "outputs": [],
   "source": [
    "SanFran_venues = pd.read_csv('SanFran_venues.csv')"
   ]
  },
  {
   "cell_type": "markdown",
   "metadata": {},
   "source": [
    "To better illustrate the model results and build a more general model, we look up the primary category of each category. We find the text file of categorytree of Foursquare API on GitHub and use it to look up primary categories."
   ]
  },
  {
   "cell_type": "code",
   "execution_count": 28,
   "metadata": {},
   "outputs": [
    {
     "name": "stdout",
     "output_type": "stream",
     "text": [
      "['Arts & Entertainment\\n', 'College & University\\n', 'Event\\n', 'Food\\n', 'Nightlife Spot\\n', 'Outdoors & Recreation\\n', 'Professional & Other Places\\n', 'Residence\\n', 'Shop & Service\\n', 'Travel & Transport\\n']\n"
     ]
    }
   ],
   "source": [
    "# read the txt file into list\n",
    "f = open('4sq_category_tree.txt', 'r')\n",
    "lines = f.readlines()\n",
    "\n",
    "## get list of primary categories\n",
    "primary = []\n",
    "# primary categories don't have space at the beginning\n",
    "for i in lines:\n",
    "    split_list = i.split(\" \")\n",
    "    if split_list[0] != \"\":\n",
    "        primary.append(i)\n",
    "print(primary)  # we found there are ten primary categories\n",
    "\n",
    "## segment the category list by primary categories\n",
    "Arts_and_Entertainment = lines[lines.index('Arts & Entertainment\\n'):lines.index('College & University\\n')]    \n",
    "College_and_University = lines[lines.index('College & University\\n'):lines.index('Event\\n')]\n",
    "Event = lines[lines.index('Event\\n'):lines.index('Food\\n')]\n",
    "Food = lines[lines.index('Food\\n'):lines.index('Nightlife Spot\\n')]\n",
    "Nightlife_Spot = lines[lines.index('Nightlife Spot\\n'):lines.index('Outdoors & Recreation\\n')]\n",
    "Outdoors_and_Recreation = lines[lines.index('Outdoors & Recreation\\n'):lines.index('Professional & Other Places\\n')]\n",
    "Professional_and_Other_Places = lines[lines.index('Professional & Other Places\\n'):lines.index('Residence\\n')]\n",
    "Residence = lines[lines.index('Residence\\n'):lines.index('Shop & Service\\n')]\n",
    "Shop_and_Service = lines[lines.index('Shop & Service\\n'):lines.index('Travel & Transport\\n')]\n",
    "Travel_and_Transport = lines[lines.index('Travel & Transport\\n'):]"
   ]
  },
  {
   "cell_type": "code",
   "execution_count": 29,
   "metadata": {},
   "outputs": [],
   "source": [
    "# function that get primary categories of the subcategories\n",
    "def get_primary_category(category_list):\n",
    "    primary_category = []\n",
    "    k = 0\n",
    "    for category in category_list:\n",
    "        for i in range(len(Arts_and_Entertainment)):\n",
    "            if len(primary_category) > k:    # if the primary category was found then break the loop\n",
    "                break\n",
    "            if category in Arts_and_Entertainment[i][-(len(category)+2):]:\n",
    "                primary_category.append('Arts_and_Entertainment')\n",
    "                break\n",
    "                \n",
    "        for i in range(len(College_and_University)):\n",
    "            if len(primary_category) > k:    # if the primary category was found then break the loop\n",
    "                break\n",
    "            if category in College_and_University[i][-(len(category)+2):]:\n",
    "                primary_category.append('College_and_University')\n",
    "                break\n",
    "                \n",
    "        for i in range(len(Event)):\n",
    "            if len(primary_category) > k:    # if the primary category was found then break the loop\n",
    "                break\n",
    "            if category in Event[i][-(len(category)+2):]:\n",
    "                primary_category.append('Event')\n",
    "                break\n",
    "                \n",
    "        for i in range(len(Food)):\n",
    "            if len(primary_category) > k:    # if the primary category was found then break the loop\n",
    "                break\n",
    "            if category in Food[i][-(len(category)+2):]:\n",
    "                primary_category.append('Food')\n",
    "                break\n",
    "                \n",
    "        for i in range(len(Nightlife_Spot)):\n",
    "            if len(primary_category) > k:    # if the primary category was found then break the loop\n",
    "                break\n",
    "            if category in Nightlife_Spot[i][-(len(category)+2):]:\n",
    "                primary_category.append('Nightlife_Spot')\n",
    "                break\n",
    "                \n",
    "        for i in range(len(Outdoors_and_Recreation)):\n",
    "            if len(primary_category) > k:    # if the primary category was found then break the loop\n",
    "                break\n",
    "            if category in Outdoors_and_Recreation[i][-(len(category)+2):]:\n",
    "                primary_category.append('Outdoors_and_Recreation')\n",
    "                break\n",
    "                \n",
    "        for i in range(len(Professional_and_Other_Places)):\n",
    "            if len(primary_category) > k:    # if the primary category was found then break the loop\n",
    "                break\n",
    "            if category in Professional_and_Other_Places[i][-(len(category)+2):]:\n",
    "                primary_category.append('Professional_and_Other_Places')\n",
    "                break\n",
    "                \n",
    "        for i in range(len(Residence)):\n",
    "            if len(primary_category) > k:    # if the primary category was found then break the loop\n",
    "                break\n",
    "            if category in Residence[i][-(len(category)+2):]:\n",
    "                primary_category.append('Residence')\n",
    "                break\n",
    "                \n",
    "        for i in range(len(Shop_and_Service)):\n",
    "            if len(primary_category) > k:    # if the primary category was found then break the loop\n",
    "                break\n",
    "            if category in Shop_and_Service[i][-(len(category)+2):]:\n",
    "                primary_category.append('Shop_and_Service')\n",
    "                break\n",
    "                \n",
    "        for i in range(len(Travel_and_Transport)):\n",
    "            if len(primary_category) > k:    # if the primary category was found then break the loop\n",
    "                break\n",
    "            if category in Travel_and_Transport[i][-(len(category)+2):]:\n",
    "                primary_category.append('Travel_and_Transport')\n",
    "                break\n",
    "        \n",
    "        # if category doesn't belong to any of them, we append nan to the list \n",
    "        k = k+1\n",
    "        if len(primary_category) < k:\n",
    "            primary_category.append(np.nan)\n",
    "        \n",
    "    return primary_category"
   ]
  },
  {
   "cell_type": "code",
   "execution_count": 30,
   "metadata": {},
   "outputs": [
    {
     "data": {
      "text/plain": [
       "(1858, 8)"
      ]
     },
     "execution_count": 30,
     "metadata": {},
     "output_type": "execute_result"
    }
   ],
   "source": [
    "#replace the subcategories by primary categories\n",
    "SanFran_venues['Venue Category'] = get_primary_category(SanFran_venues['Venue Category'])\n",
    "SanFran_venues.shape"
   ]
  },
  {
   "cell_type": "code",
   "execution_count": 31,
   "metadata": {},
   "outputs": [
    {
     "data": {
      "text/plain": [
       "(1826, 8)"
      ]
     },
     "execution_count": 31,
     "metadata": {},
     "output_type": "execute_result"
    }
   ],
   "source": [
    "#remove rows those primary categories were not found\n",
    "SanFran_venues.dropna(subset=[\"Venue Category\"], axis=0, inplace=True)\n",
    "SanFran_venues.shape"
   ]
  },
  {
   "cell_type": "code",
   "execution_count": 24,
   "metadata": {},
   "outputs": [
    {
     "data": {
      "text/html": [
       "<div>\n",
       "<style scoped>\n",
       "    .dataframe tbody tr th:only-of-type {\n",
       "        vertical-align: middle;\n",
       "    }\n",
       "\n",
       "    .dataframe tbody tr th {\n",
       "        vertical-align: top;\n",
       "    }\n",
       "\n",
       "    .dataframe thead th {\n",
       "        text-align: right;\n",
       "    }\n",
       "</style>\n",
       "<table border=\"1\" class=\"dataframe\">\n",
       "  <thead>\n",
       "    <tr style=\"text-align: right;\">\n",
       "      <th></th>\n",
       "      <th>Neighborhoods</th>\n",
       "      <th>Arts_and_Entertainment</th>\n",
       "      <th>College_and_University</th>\n",
       "      <th>Food</th>\n",
       "      <th>Nightlife_Spot</th>\n",
       "      <th>Outdoors_and_Recreation</th>\n",
       "      <th>Professional_and_Other_Places</th>\n",
       "      <th>Shop_and_Service</th>\n",
       "      <th>Travel_and_Transport</th>\n",
       "    </tr>\n",
       "  </thead>\n",
       "  <tbody>\n",
       "    <tr>\n",
       "      <th>0</th>\n",
       "      <td>Bayview Hunters Point</td>\n",
       "      <td>0</td>\n",
       "      <td>1</td>\n",
       "      <td>0</td>\n",
       "      <td>0</td>\n",
       "      <td>0</td>\n",
       "      <td>0</td>\n",
       "      <td>0</td>\n",
       "      <td>0</td>\n",
       "    </tr>\n",
       "    <tr>\n",
       "      <th>1</th>\n",
       "      <td>Bayview Hunters Point</td>\n",
       "      <td>1</td>\n",
       "      <td>0</td>\n",
       "      <td>0</td>\n",
       "      <td>0</td>\n",
       "      <td>0</td>\n",
       "      <td>0</td>\n",
       "      <td>0</td>\n",
       "      <td>0</td>\n",
       "    </tr>\n",
       "    <tr>\n",
       "      <th>2</th>\n",
       "      <td>Bayview Hunters Point</td>\n",
       "      <td>0</td>\n",
       "      <td>0</td>\n",
       "      <td>0</td>\n",
       "      <td>0</td>\n",
       "      <td>0</td>\n",
       "      <td>0</td>\n",
       "      <td>1</td>\n",
       "      <td>0</td>\n",
       "    </tr>\n",
       "    <tr>\n",
       "      <th>3</th>\n",
       "      <td>Bayview Hunters Point</td>\n",
       "      <td>0</td>\n",
       "      <td>0</td>\n",
       "      <td>0</td>\n",
       "      <td>0</td>\n",
       "      <td>1</td>\n",
       "      <td>0</td>\n",
       "      <td>0</td>\n",
       "      <td>0</td>\n",
       "    </tr>\n",
       "    <tr>\n",
       "      <th>4</th>\n",
       "      <td>Bernal Heights</td>\n",
       "      <td>0</td>\n",
       "      <td>0</td>\n",
       "      <td>1</td>\n",
       "      <td>0</td>\n",
       "      <td>0</td>\n",
       "      <td>0</td>\n",
       "      <td>0</td>\n",
       "      <td>0</td>\n",
       "    </tr>\n",
       "  </tbody>\n",
       "</table>\n",
       "</div>"
      ],
      "text/plain": [
       "           Neighborhoods  Arts_and_Entertainment  College_and_University  \\\n",
       "0  Bayview Hunters Point                       0                       1   \n",
       "1  Bayview Hunters Point                       1                       0   \n",
       "2  Bayview Hunters Point                       0                       0   \n",
       "3  Bayview Hunters Point                       0                       0   \n",
       "4         Bernal Heights                       0                       0   \n",
       "\n",
       "   Food  Nightlife_Spot  Outdoors_and_Recreation  \\\n",
       "0     0               0                        0   \n",
       "1     0               0                        0   \n",
       "2     0               0                        0   \n",
       "3     0               0                        1   \n",
       "4     1               0                        0   \n",
       "\n",
       "   Professional_and_Other_Places  Shop_and_Service  Travel_and_Transport  \n",
       "0                              0                 0                     0  \n",
       "1                              0                 0                     0  \n",
       "2                              0                 1                     0  \n",
       "3                              0                 0                     0  \n",
       "4                              0                 0                     0  "
      ]
     },
     "execution_count": 24,
     "metadata": {},
     "output_type": "execute_result"
    }
   ],
   "source": [
    "# one hot encoding\n",
    "SanFran_onehot = pd.get_dummies(SanFran_venues[['Venue Category']], prefix=\"\", prefix_sep=\"\")\n",
    "\n",
    "# add neighborhood column back to dataframe\n",
    "SanFran_onehot['Neighborhoods'] = SanFran_venues['Neighborhood'] \n",
    "\n",
    "# move neighborhood column to the first column\n",
    "fixed_columns = [SanFran_onehot.columns[-1]] + list(SanFran_onehot.columns[:-1])\n",
    "SanFran_onehot = SanFran_onehot[fixed_columns]\n",
    "\n",
    "SanFran_onehot.head()"
   ]
  },
  {
   "cell_type": "markdown",
   "metadata": {},
   "source": [
    "#### Next, let's group rows by neighborhood and by taking the mean of the frequency of occurrence of each category"
   ]
  },
  {
   "cell_type": "code",
   "execution_count": 25,
   "metadata": {},
   "outputs": [
    {
     "data": {
      "text/html": [
       "<div>\n",
       "<style scoped>\n",
       "    .dataframe tbody tr th:only-of-type {\n",
       "        vertical-align: middle;\n",
       "    }\n",
       "\n",
       "    .dataframe tbody tr th {\n",
       "        vertical-align: top;\n",
       "    }\n",
       "\n",
       "    .dataframe thead th {\n",
       "        text-align: right;\n",
       "    }\n",
       "</style>\n",
       "<table border=\"1\" class=\"dataframe\">\n",
       "  <thead>\n",
       "    <tr style=\"text-align: right;\">\n",
       "      <th></th>\n",
       "      <th>Neighborhoods</th>\n",
       "      <th>Arts_and_Entertainment</th>\n",
       "      <th>College_and_University</th>\n",
       "      <th>Food</th>\n",
       "      <th>Nightlife_Spot</th>\n",
       "      <th>Outdoors_and_Recreation</th>\n",
       "      <th>Professional_and_Other_Places</th>\n",
       "      <th>Shop_and_Service</th>\n",
       "      <th>Travel_and_Transport</th>\n",
       "    </tr>\n",
       "  </thead>\n",
       "  <tbody>\n",
       "    <tr>\n",
       "      <th>0</th>\n",
       "      <td>Bayview Hunters Point</td>\n",
       "      <td>0.250000</td>\n",
       "      <td>0.250000</td>\n",
       "      <td>0.000000</td>\n",
       "      <td>0.000000</td>\n",
       "      <td>0.250000</td>\n",
       "      <td>0.00</td>\n",
       "      <td>0.250000</td>\n",
       "      <td>0.000000</td>\n",
       "    </tr>\n",
       "    <tr>\n",
       "      <th>1</th>\n",
       "      <td>Bernal Heights</td>\n",
       "      <td>0.028571</td>\n",
       "      <td>0.028571</td>\n",
       "      <td>0.514286</td>\n",
       "      <td>0.057143</td>\n",
       "      <td>0.057143</td>\n",
       "      <td>0.00</td>\n",
       "      <td>0.257143</td>\n",
       "      <td>0.057143</td>\n",
       "    </tr>\n",
       "    <tr>\n",
       "      <th>2</th>\n",
       "      <td>Castro/Upper Market</td>\n",
       "      <td>0.070707</td>\n",
       "      <td>0.030303</td>\n",
       "      <td>0.424242</td>\n",
       "      <td>0.141414</td>\n",
       "      <td>0.030303</td>\n",
       "      <td>0.00</td>\n",
       "      <td>0.292929</td>\n",
       "      <td>0.010101</td>\n",
       "    </tr>\n",
       "    <tr>\n",
       "      <th>3</th>\n",
       "      <td>Chinatown</td>\n",
       "      <td>0.030000</td>\n",
       "      <td>0.020000</td>\n",
       "      <td>0.680000</td>\n",
       "      <td>0.110000</td>\n",
       "      <td>0.020000</td>\n",
       "      <td>0.02</td>\n",
       "      <td>0.110000</td>\n",
       "      <td>0.010000</td>\n",
       "    </tr>\n",
       "    <tr>\n",
       "      <th>4</th>\n",
       "      <td>Excelsior</td>\n",
       "      <td>0.000000</td>\n",
       "      <td>0.250000</td>\n",
       "      <td>0.000000</td>\n",
       "      <td>0.000000</td>\n",
       "      <td>0.750000</td>\n",
       "      <td>0.00</td>\n",
       "      <td>0.000000</td>\n",
       "      <td>0.000000</td>\n",
       "    </tr>\n",
       "  </tbody>\n",
       "</table>\n",
       "</div>"
      ],
      "text/plain": [
       "           Neighborhoods  Arts_and_Entertainment  College_and_University  \\\n",
       "0  Bayview Hunters Point                0.250000                0.250000   \n",
       "1         Bernal Heights                0.028571                0.028571   \n",
       "2    Castro/Upper Market                0.070707                0.030303   \n",
       "3              Chinatown                0.030000                0.020000   \n",
       "4              Excelsior                0.000000                0.250000   \n",
       "\n",
       "       Food  Nightlife_Spot  Outdoors_and_Recreation  \\\n",
       "0  0.000000        0.000000                 0.250000   \n",
       "1  0.514286        0.057143                 0.057143   \n",
       "2  0.424242        0.141414                 0.030303   \n",
       "3  0.680000        0.110000                 0.020000   \n",
       "4  0.000000        0.000000                 0.750000   \n",
       "\n",
       "   Professional_and_Other_Places  Shop_and_Service  Travel_and_Transport  \n",
       "0                           0.00          0.250000              0.000000  \n",
       "1                           0.00          0.257143              0.057143  \n",
       "2                           0.00          0.292929              0.010101  \n",
       "3                           0.02          0.110000              0.010000  \n",
       "4                           0.00          0.000000              0.000000  "
      ]
     },
     "execution_count": 25,
     "metadata": {},
     "output_type": "execute_result"
    }
   ],
   "source": [
    "SanFran_grouped = SanFran_onehot.groupby('Neighborhoods').mean().reset_index()\n",
    "SanFran_grouped.head()"
   ]
  },
  {
   "cell_type": "markdown",
   "metadata": {},
   "source": [
    "We found that their was no venues of 'Residence' and 'Event' found in SanFrancisco neighborhoods. For the general applicability of the model, we add the two column with values of zero."
   ]
  },
  {
   "cell_type": "code",
   "execution_count": 26,
   "metadata": {},
   "outputs": [
    {
     "data": {
      "text/html": [
       "<div>\n",
       "<style scoped>\n",
       "    .dataframe tbody tr th:only-of-type {\n",
       "        vertical-align: middle;\n",
       "    }\n",
       "\n",
       "    .dataframe tbody tr th {\n",
       "        vertical-align: top;\n",
       "    }\n",
       "\n",
       "    .dataframe thead th {\n",
       "        text-align: right;\n",
       "    }\n",
       "</style>\n",
       "<table border=\"1\" class=\"dataframe\">\n",
       "  <thead>\n",
       "    <tr style=\"text-align: right;\">\n",
       "      <th></th>\n",
       "      <th>Neighborhoods</th>\n",
       "      <th>Arts_and_Entertainment</th>\n",
       "      <th>College_and_University</th>\n",
       "      <th>Food</th>\n",
       "      <th>Nightlife_Spot</th>\n",
       "      <th>Outdoors_and_Recreation</th>\n",
       "      <th>Professional_and_Other_Places</th>\n",
       "      <th>Shop_and_Service</th>\n",
       "      <th>Travel_and_Transport</th>\n",
       "      <th>Residence</th>\n",
       "      <th>Event</th>\n",
       "    </tr>\n",
       "  </thead>\n",
       "  <tbody>\n",
       "    <tr>\n",
       "      <th>0</th>\n",
       "      <td>Bayview Hunters Point</td>\n",
       "      <td>0.250000</td>\n",
       "      <td>0.250000</td>\n",
       "      <td>0.000000</td>\n",
       "      <td>0.000000</td>\n",
       "      <td>0.250000</td>\n",
       "      <td>0.00</td>\n",
       "      <td>0.250000</td>\n",
       "      <td>0.000000</td>\n",
       "      <td>0.0</td>\n",
       "      <td>0.0</td>\n",
       "    </tr>\n",
       "    <tr>\n",
       "      <th>1</th>\n",
       "      <td>Bernal Heights</td>\n",
       "      <td>0.028571</td>\n",
       "      <td>0.028571</td>\n",
       "      <td>0.514286</td>\n",
       "      <td>0.057143</td>\n",
       "      <td>0.057143</td>\n",
       "      <td>0.00</td>\n",
       "      <td>0.257143</td>\n",
       "      <td>0.057143</td>\n",
       "      <td>0.0</td>\n",
       "      <td>0.0</td>\n",
       "    </tr>\n",
       "    <tr>\n",
       "      <th>2</th>\n",
       "      <td>Castro/Upper Market</td>\n",
       "      <td>0.070707</td>\n",
       "      <td>0.030303</td>\n",
       "      <td>0.424242</td>\n",
       "      <td>0.141414</td>\n",
       "      <td>0.030303</td>\n",
       "      <td>0.00</td>\n",
       "      <td>0.292929</td>\n",
       "      <td>0.010101</td>\n",
       "      <td>0.0</td>\n",
       "      <td>0.0</td>\n",
       "    </tr>\n",
       "    <tr>\n",
       "      <th>3</th>\n",
       "      <td>Chinatown</td>\n",
       "      <td>0.030000</td>\n",
       "      <td>0.020000</td>\n",
       "      <td>0.680000</td>\n",
       "      <td>0.110000</td>\n",
       "      <td>0.020000</td>\n",
       "      <td>0.02</td>\n",
       "      <td>0.110000</td>\n",
       "      <td>0.010000</td>\n",
       "      <td>0.0</td>\n",
       "      <td>0.0</td>\n",
       "    </tr>\n",
       "    <tr>\n",
       "      <th>4</th>\n",
       "      <td>Excelsior</td>\n",
       "      <td>0.000000</td>\n",
       "      <td>0.250000</td>\n",
       "      <td>0.000000</td>\n",
       "      <td>0.000000</td>\n",
       "      <td>0.750000</td>\n",
       "      <td>0.00</td>\n",
       "      <td>0.000000</td>\n",
       "      <td>0.000000</td>\n",
       "      <td>0.0</td>\n",
       "      <td>0.0</td>\n",
       "    </tr>\n",
       "  </tbody>\n",
       "</table>\n",
       "</div>"
      ],
      "text/plain": [
       "           Neighborhoods  Arts_and_Entertainment  College_and_University  \\\n",
       "0  Bayview Hunters Point                0.250000                0.250000   \n",
       "1         Bernal Heights                0.028571                0.028571   \n",
       "2    Castro/Upper Market                0.070707                0.030303   \n",
       "3              Chinatown                0.030000                0.020000   \n",
       "4              Excelsior                0.000000                0.250000   \n",
       "\n",
       "       Food  Nightlife_Spot  Outdoors_and_Recreation  \\\n",
       "0  0.000000        0.000000                 0.250000   \n",
       "1  0.514286        0.057143                 0.057143   \n",
       "2  0.424242        0.141414                 0.030303   \n",
       "3  0.680000        0.110000                 0.020000   \n",
       "4  0.000000        0.000000                 0.750000   \n",
       "\n",
       "   Professional_and_Other_Places  Shop_and_Service  Travel_and_Transport  \\\n",
       "0                           0.00          0.250000              0.000000   \n",
       "1                           0.00          0.257143              0.057143   \n",
       "2                           0.00          0.292929              0.010101   \n",
       "3                           0.02          0.110000              0.010000   \n",
       "4                           0.00          0.000000              0.000000   \n",
       "\n",
       "   Residence  Event  \n",
       "0        0.0    0.0  \n",
       "1        0.0    0.0  \n",
       "2        0.0    0.0  \n",
       "3        0.0    0.0  \n",
       "4        0.0    0.0  "
      ]
     },
     "execution_count": 26,
     "metadata": {},
     "output_type": "execute_result"
    }
   ],
   "source": [
    "SanFran_grouped['Residence'] = np.zeros_like(SanFran_grouped['Food'])\n",
    "SanFran_grouped['Event'] = np.zeros_like(SanFran_grouped['Food'])\n",
    "SanFran_grouped.head()"
   ]
  },
  {
   "cell_type": "code",
   "execution_count": null,
   "metadata": {},
   "outputs": [],
   "source": [
    "X = SanFran_grouped.iloc[:,1:]\n",
    "X.head()"
   ]
  },
  {
   "cell_type": "markdown",
   "metadata": {},
   "source": [
    "Since the data of popular venues could vary from time to time, to make sure we have consistent output, I save the X metrics on cloud and use pd.read_csv to read it when it's needed."
   ]
  },
  {
   "cell_type": "code",
   "execution_count": 20,
   "metadata": {},
   "outputs": [
    {
     "name": "stdout",
     "output_type": "stream",
     "text": [
      "   Arts_and_Entertainment  College_and_University      Food  Nightlife_Spot  \\\n",
      "0                0.250000                0.250000  0.000000        0.000000   \n",
      "1                0.028571                0.028571  0.514286        0.057143   \n",
      "2                0.070707                0.030303  0.424242        0.141414   \n",
      "3                0.030000                0.020000  0.680000        0.110000   \n",
      "4                0.000000                0.250000  0.000000        0.000000   \n",
      "\n",
      "   Outdoors_and_Recreation  Professional_and_Other_Places  Shop_and_Service  \\\n",
      "0                 0.250000                           0.00          0.250000   \n",
      "1                 0.057143                           0.00          0.257143   \n",
      "2                 0.030303                           0.00          0.292929   \n",
      "3                 0.020000                           0.02          0.110000   \n",
      "4                 0.750000                           0.00          0.000000   \n",
      "\n",
      "   Travel_and_Transport  Residence  Event  \n",
      "0              0.000000        0.0    0.0  \n",
      "1              0.057143        0.0    0.0  \n",
      "2              0.010101        0.0    0.0  \n",
      "3              0.010000        0.0    0.0  \n",
      "4              0.000000        0.0    0.0  \n"
     ]
    },
    {
     "data": {
      "text/plain": [
       "0    average\n",
       "1    average\n",
       "2    average\n",
       "3    average\n",
       "4    average\n",
       "Name: risk_level, dtype: object"
      ]
     },
     "execution_count": 20,
     "metadata": {},
     "output_type": "execute_result"
    }
   ],
   "source": [
    "X = pd.read_csv('https://query.data.world/s/i4yjnhkwht5pg3j4cgkxdu4lvx2eym').iloc[:,1:]\n",
    "print(X.head())\n",
    "y = San_Cards_Fraud_rates['risk_level']\n",
    "y[0:5]"
   ]
  },
  {
   "cell_type": "markdown",
   "metadata": {},
   "source": [
    "#### Chicago data as testing set"
   ]
  },
  {
   "cell_type": "code",
   "execution_count": 55,
   "metadata": {},
   "outputs": [
    {
     "name": "stdout",
     "output_type": "stream",
     "text": [
      "ANDERSONVILLE\n",
      "ARCHER HEIGHTS,WEST ELSDON\n",
      "ARMOUR SQUARE,CHINATOWN\n",
      "ASHBURN\n",
      "AUBURN GRESHAM\n",
      "AUSTIN\n",
      "AVALON PARK,CALUMET HEIGHTS\n",
      "BACK OF THE YARDS\n",
      "BELMONT CRAGIN,HERMOSA\n",
      "BELMONT CRAIGIN,HERMOSA\n",
      "BEVERLY\n",
      "BRIDGEPORT\n",
      "BRIGHTON PARK,MCKINLEY PARK\n",
      "BRONZEVILLE\n",
      "BUCKTOWN\n",
      "CHATHAM,BURNSIDE\n",
      "DUNNING\n",
      "EDGEWATER\n",
      "EDISON PARK\n",
      "ENGLEWOOD\n",
      "GARFIELD PARK\n",
      "GOLD COAST\n",
      "GRANT PARK\n",
      "GREEKTOWN\n",
      "HUMBOLDT PARK\n",
      "HYDE PARK\n",
      "IRVING PARK,AVONDALE\n",
      "JACKSON PARK\n",
      "JEFFERSON PARK\n",
      "KENWOOD,OAKLAND\n",
      "LAKE VIEW\n",
      "LINCOLN PARK\n",
      "LINCOLN SQUARE\n",
      "LITTLE ITALY, UIC\n",
      "LITTLE VILLAGE\n",
      "LOGAN SQUARE\n",
      "LOOP\n",
      "LOWER WEST SIDE\n",
      "MARQUETTE PARK,GAGE PARK\n",
      "MIDWAY AIRPORT\n",
      "MILLENIUM PARK\n",
      "MONTCLARE, GALEWOOD\n",
      "MOUNT GREENWOOD,MORGAN PARK\n",
      "MUSEUM CAMPUS\n",
      "NEAR SOUTH SIDE\n",
      "NORTH CENTER\n",
      "NORTH LAWNDALE\n",
      "NORTH PARK,ALBANY PARK\n",
      "NORWOOD PARK\n",
      "OAKLAND,KENWOOD\n",
      "OLD TOWN\n",
      "PORTAGE PARK\n",
      "PRINTERS ROW\n",
      "PULLMAN\n",
      "RIVER NORTH\n",
      "RIVERDALE\n",
      "ROGERS PARK\n",
      "RUSH & DIVISION\n",
      "SAUGANASH,FOREST GLEN\n",
      "SHEFFIELD & DEPAUL\n",
      "SOUTH CHICAGO\n",
      "SOUTH SHORE, GRAND CROSSING\n",
      "SOUTHEAST SIDE\n",
      "STREETERVILLE\n",
      "UKRAINIAN VILLAGE AND EAST VILLAGE\n",
      "UNITED CENTER\n",
      "UPTOWN\n",
      "WASHINGTON HEIGHTS,ROSELAND\n",
      "WASHINGTON PARK\n",
      "WEST LAWN\n",
      "WEST LOOP\n",
      "WEST PULLMAN\n",
      "WEST RIDGE\n",
      "WICKER PARK,WEST TOWN\n",
      "WOODLAWN\n",
      "WRIGLEYVILLE\n",
      "OHARE\n",
      "BOYSTOWN\n"
     ]
    }
   ],
   "source": [
    "Chicago_venues = getNearbyVenues(names=Chi_Cards_Fraud_rates['Neighborhood'],\n",
    "                                   latitudes=Chi_Cards_Fraud_rates['Latitude'],\n",
    "                                   longitudes=Chi_Cards_Fraud_rates['Longitude'],\n",
    "                                   LIMIT = 100\n",
    "                                  )"
   ]
  },
  {
   "cell_type": "code",
   "execution_count": 56,
   "metadata": {},
   "outputs": [
    {
     "data": {
      "text/plain": [
       "(2255, 7)"
      ]
     },
     "execution_count": 56,
     "metadata": {},
     "output_type": "execute_result"
    }
   ],
   "source": [
    "#replace the subcategories by primary categories\n",
    "Chicago_venues['Venue Category'] = get_primary_category(Chicago_venues['Venue Category'])\n",
    "Chicago_venues.shape"
   ]
  },
  {
   "cell_type": "code",
   "execution_count": 57,
   "metadata": {},
   "outputs": [
    {
     "data": {
      "text/plain": [
       "(2212, 7)"
      ]
     },
     "execution_count": 57,
     "metadata": {},
     "output_type": "execute_result"
    }
   ],
   "source": [
    "#remove rows those primary categories were not found\n",
    "Chicago_venues.dropna(subset=[\"Venue Category\"], axis=0, inplace=True)\n",
    "Chicago_venues.shape"
   ]
  },
  {
   "cell_type": "code",
   "execution_count": 58,
   "metadata": {},
   "outputs": [
    {
     "data": {
      "text/html": [
       "<div>\n",
       "<style scoped>\n",
       "    .dataframe tbody tr th:only-of-type {\n",
       "        vertical-align: middle;\n",
       "    }\n",
       "\n",
       "    .dataframe tbody tr th {\n",
       "        vertical-align: top;\n",
       "    }\n",
       "\n",
       "    .dataframe thead th {\n",
       "        text-align: right;\n",
       "    }\n",
       "</style>\n",
       "<table border=\"1\" class=\"dataframe\">\n",
       "  <thead>\n",
       "    <tr style=\"text-align: right;\">\n",
       "      <th></th>\n",
       "      <th>Neighborhood</th>\n",
       "      <th>Arts_and_Entertainment</th>\n",
       "      <th>College_and_University</th>\n",
       "      <th>Food</th>\n",
       "      <th>Nightlife_Spot</th>\n",
       "      <th>Outdoors_and_Recreation</th>\n",
       "      <th>Professional_and_Other_Places</th>\n",
       "      <th>Shop_and_Service</th>\n",
       "      <th>Travel_and_Transport</th>\n",
       "    </tr>\n",
       "  </thead>\n",
       "  <tbody>\n",
       "    <tr>\n",
       "      <th>0</th>\n",
       "      <td>ANDERSONVILLE</td>\n",
       "      <td>0</td>\n",
       "      <td>0</td>\n",
       "      <td>1</td>\n",
       "      <td>0</td>\n",
       "      <td>0</td>\n",
       "      <td>0</td>\n",
       "      <td>0</td>\n",
       "      <td>0</td>\n",
       "    </tr>\n",
       "    <tr>\n",
       "      <th>1</th>\n",
       "      <td>ANDERSONVILLE</td>\n",
       "      <td>0</td>\n",
       "      <td>0</td>\n",
       "      <td>1</td>\n",
       "      <td>0</td>\n",
       "      <td>0</td>\n",
       "      <td>0</td>\n",
       "      <td>0</td>\n",
       "      <td>0</td>\n",
       "    </tr>\n",
       "    <tr>\n",
       "      <th>2</th>\n",
       "      <td>ANDERSONVILLE</td>\n",
       "      <td>0</td>\n",
       "      <td>0</td>\n",
       "      <td>1</td>\n",
       "      <td>0</td>\n",
       "      <td>0</td>\n",
       "      <td>0</td>\n",
       "      <td>0</td>\n",
       "      <td>0</td>\n",
       "    </tr>\n",
       "    <tr>\n",
       "      <th>3</th>\n",
       "      <td>ANDERSONVILLE</td>\n",
       "      <td>0</td>\n",
       "      <td>0</td>\n",
       "      <td>0</td>\n",
       "      <td>0</td>\n",
       "      <td>0</td>\n",
       "      <td>0</td>\n",
       "      <td>1</td>\n",
       "      <td>0</td>\n",
       "    </tr>\n",
       "    <tr>\n",
       "      <th>4</th>\n",
       "      <td>ANDERSONVILLE</td>\n",
       "      <td>0</td>\n",
       "      <td>0</td>\n",
       "      <td>1</td>\n",
       "      <td>0</td>\n",
       "      <td>0</td>\n",
       "      <td>0</td>\n",
       "      <td>0</td>\n",
       "      <td>0</td>\n",
       "    </tr>\n",
       "  </tbody>\n",
       "</table>\n",
       "</div>"
      ],
      "text/plain": [
       "    Neighborhood  Arts_and_Entertainment  College_and_University  Food  \\\n",
       "0  ANDERSONVILLE                       0                       0     1   \n",
       "1  ANDERSONVILLE                       0                       0     1   \n",
       "2  ANDERSONVILLE                       0                       0     1   \n",
       "3  ANDERSONVILLE                       0                       0     0   \n",
       "4  ANDERSONVILLE                       0                       0     1   \n",
       "\n",
       "   Nightlife_Spot  Outdoors_and_Recreation  Professional_and_Other_Places  \\\n",
       "0               0                        0                              0   \n",
       "1               0                        0                              0   \n",
       "2               0                        0                              0   \n",
       "3               0                        0                              0   \n",
       "4               0                        0                              0   \n",
       "\n",
       "   Shop_and_Service  Travel_and_Transport  \n",
       "0                 0                     0  \n",
       "1                 0                     0  \n",
       "2                 0                     0  \n",
       "3                 1                     0  \n",
       "4                 0                     0  "
      ]
     },
     "execution_count": 58,
     "metadata": {},
     "output_type": "execute_result"
    }
   ],
   "source": [
    "# one hot encoding\n",
    "Chicago_onehot = pd.get_dummies(Chicago_venues[['Venue Category']], prefix=\"\", prefix_sep=\"\")\n",
    "\n",
    "# add neighborhood column back to dataframe\n",
    "Chicago_onehot['Neighborhood'] = Chicago_venues['Neighborhood'] \n",
    "\n",
    "# move neighborhood column to the first column\n",
    "fixed_columns = [Chicago_onehot.columns[-1]] + list(Chicago_onehot.columns[:-1])\n",
    "Chicago_onehot = Chicago_onehot[fixed_columns]\n",
    "\n",
    "Chicago_onehot.head()"
   ]
  },
  {
   "cell_type": "code",
   "execution_count": 59,
   "metadata": {},
   "outputs": [
    {
     "data": {
      "text/html": [
       "<div>\n",
       "<style scoped>\n",
       "    .dataframe tbody tr th:only-of-type {\n",
       "        vertical-align: middle;\n",
       "    }\n",
       "\n",
       "    .dataframe tbody tr th {\n",
       "        vertical-align: top;\n",
       "    }\n",
       "\n",
       "    .dataframe thead th {\n",
       "        text-align: right;\n",
       "    }\n",
       "</style>\n",
       "<table border=\"1\" class=\"dataframe\">\n",
       "  <thead>\n",
       "    <tr style=\"text-align: right;\">\n",
       "      <th></th>\n",
       "      <th>Neighborhood</th>\n",
       "      <th>Arts_and_Entertainment</th>\n",
       "      <th>College_and_University</th>\n",
       "      <th>Food</th>\n",
       "      <th>Nightlife_Spot</th>\n",
       "      <th>Outdoors_and_Recreation</th>\n",
       "      <th>Professional_and_Other_Places</th>\n",
       "      <th>Shop_and_Service</th>\n",
       "      <th>Travel_and_Transport</th>\n",
       "    </tr>\n",
       "  </thead>\n",
       "  <tbody>\n",
       "    <tr>\n",
       "      <th>0</th>\n",
       "      <td>ANDERSONVILLE</td>\n",
       "      <td>0.070175</td>\n",
       "      <td>0.035088</td>\n",
       "      <td>0.561404</td>\n",
       "      <td>0.052632</td>\n",
       "      <td>0.017544</td>\n",
       "      <td>0.0</td>\n",
       "      <td>0.263158</td>\n",
       "      <td>0.000000</td>\n",
       "    </tr>\n",
       "    <tr>\n",
       "      <th>1</th>\n",
       "      <td>ARCHER HEIGHTS,WEST ELSDON</td>\n",
       "      <td>0.100000</td>\n",
       "      <td>0.000000</td>\n",
       "      <td>0.400000</td>\n",
       "      <td>0.000000</td>\n",
       "      <td>0.000000</td>\n",
       "      <td>0.0</td>\n",
       "      <td>0.500000</td>\n",
       "      <td>0.000000</td>\n",
       "    </tr>\n",
       "    <tr>\n",
       "      <th>2</th>\n",
       "      <td>ARMOUR SQUARE,CHINATOWN</td>\n",
       "      <td>0.148148</td>\n",
       "      <td>0.111111</td>\n",
       "      <td>0.481481</td>\n",
       "      <td>0.037037</td>\n",
       "      <td>0.000000</td>\n",
       "      <td>0.0</td>\n",
       "      <td>0.148148</td>\n",
       "      <td>0.074074</td>\n",
       "    </tr>\n",
       "    <tr>\n",
       "      <th>3</th>\n",
       "      <td>ASHBURN</td>\n",
       "      <td>0.000000</td>\n",
       "      <td>0.000000</td>\n",
       "      <td>0.400000</td>\n",
       "      <td>0.000000</td>\n",
       "      <td>0.000000</td>\n",
       "      <td>0.0</td>\n",
       "      <td>0.400000</td>\n",
       "      <td>0.200000</td>\n",
       "    </tr>\n",
       "    <tr>\n",
       "      <th>4</th>\n",
       "      <td>AUBURN GRESHAM</td>\n",
       "      <td>0.400000</td>\n",
       "      <td>0.200000</td>\n",
       "      <td>0.200000</td>\n",
       "      <td>0.000000</td>\n",
       "      <td>0.000000</td>\n",
       "      <td>0.0</td>\n",
       "      <td>0.200000</td>\n",
       "      <td>0.000000</td>\n",
       "    </tr>\n",
       "  </tbody>\n",
       "</table>\n",
       "</div>"
      ],
      "text/plain": [
       "                 Neighborhood  Arts_and_Entertainment  College_and_University  \\\n",
       "0               ANDERSONVILLE                0.070175                0.035088   \n",
       "1  ARCHER HEIGHTS,WEST ELSDON                0.100000                0.000000   \n",
       "2     ARMOUR SQUARE,CHINATOWN                0.148148                0.111111   \n",
       "3                     ASHBURN                0.000000                0.000000   \n",
       "4              AUBURN GRESHAM                0.400000                0.200000   \n",
       "\n",
       "       Food  Nightlife_Spot  Outdoors_and_Recreation  \\\n",
       "0  0.561404        0.052632                 0.017544   \n",
       "1  0.400000        0.000000                 0.000000   \n",
       "2  0.481481        0.037037                 0.000000   \n",
       "3  0.400000        0.000000                 0.000000   \n",
       "4  0.200000        0.000000                 0.000000   \n",
       "\n",
       "   Professional_and_Other_Places  Shop_and_Service  Travel_and_Transport  \n",
       "0                            0.0          0.263158              0.000000  \n",
       "1                            0.0          0.500000              0.000000  \n",
       "2                            0.0          0.148148              0.074074  \n",
       "3                            0.0          0.400000              0.200000  \n",
       "4                            0.0          0.200000              0.000000  "
      ]
     },
     "execution_count": 59,
     "metadata": {},
     "output_type": "execute_result"
    }
   ],
   "source": [
    "Chicago_grouped = Chicago_onehot.groupby('Neighborhood').mean().reset_index()\n",
    "Chicago_grouped.head()"
   ]
  },
  {
   "cell_type": "markdown",
   "metadata": {},
   "source": [
    "It seems that there's also no venues of categories 'Resident' and 'Event', so here we also assign two columns of zeros to the two categories."
   ]
  },
  {
   "cell_type": "code",
   "execution_count": 60,
   "metadata": {},
   "outputs": [
    {
     "data": {
      "text/html": [
       "<div>\n",
       "<style scoped>\n",
       "    .dataframe tbody tr th:only-of-type {\n",
       "        vertical-align: middle;\n",
       "    }\n",
       "\n",
       "    .dataframe tbody tr th {\n",
       "        vertical-align: top;\n",
       "    }\n",
       "\n",
       "    .dataframe thead th {\n",
       "        text-align: right;\n",
       "    }\n",
       "</style>\n",
       "<table border=\"1\" class=\"dataframe\">\n",
       "  <thead>\n",
       "    <tr style=\"text-align: right;\">\n",
       "      <th></th>\n",
       "      <th>Neighborhood</th>\n",
       "      <th>Arts_and_Entertainment</th>\n",
       "      <th>College_and_University</th>\n",
       "      <th>Food</th>\n",
       "      <th>Nightlife_Spot</th>\n",
       "      <th>Outdoors_and_Recreation</th>\n",
       "      <th>Professional_and_Other_Places</th>\n",
       "      <th>Shop_and_Service</th>\n",
       "      <th>Travel_and_Transport</th>\n",
       "      <th>Residence</th>\n",
       "      <th>Event</th>\n",
       "    </tr>\n",
       "  </thead>\n",
       "  <tbody>\n",
       "    <tr>\n",
       "      <th>0</th>\n",
       "      <td>ANDERSONVILLE</td>\n",
       "      <td>0.070175</td>\n",
       "      <td>0.035088</td>\n",
       "      <td>0.561404</td>\n",
       "      <td>0.052632</td>\n",
       "      <td>0.017544</td>\n",
       "      <td>0.0</td>\n",
       "      <td>0.263158</td>\n",
       "      <td>0.000000</td>\n",
       "      <td>0.0</td>\n",
       "      <td>0.0</td>\n",
       "    </tr>\n",
       "    <tr>\n",
       "      <th>1</th>\n",
       "      <td>ARCHER HEIGHTS,WEST ELSDON</td>\n",
       "      <td>0.100000</td>\n",
       "      <td>0.000000</td>\n",
       "      <td>0.400000</td>\n",
       "      <td>0.000000</td>\n",
       "      <td>0.000000</td>\n",
       "      <td>0.0</td>\n",
       "      <td>0.500000</td>\n",
       "      <td>0.000000</td>\n",
       "      <td>0.0</td>\n",
       "      <td>0.0</td>\n",
       "    </tr>\n",
       "    <tr>\n",
       "      <th>2</th>\n",
       "      <td>ARMOUR SQUARE,CHINATOWN</td>\n",
       "      <td>0.148148</td>\n",
       "      <td>0.111111</td>\n",
       "      <td>0.481481</td>\n",
       "      <td>0.037037</td>\n",
       "      <td>0.000000</td>\n",
       "      <td>0.0</td>\n",
       "      <td>0.148148</td>\n",
       "      <td>0.074074</td>\n",
       "      <td>0.0</td>\n",
       "      <td>0.0</td>\n",
       "    </tr>\n",
       "    <tr>\n",
       "      <th>3</th>\n",
       "      <td>ASHBURN</td>\n",
       "      <td>0.000000</td>\n",
       "      <td>0.000000</td>\n",
       "      <td>0.400000</td>\n",
       "      <td>0.000000</td>\n",
       "      <td>0.000000</td>\n",
       "      <td>0.0</td>\n",
       "      <td>0.400000</td>\n",
       "      <td>0.200000</td>\n",
       "      <td>0.0</td>\n",
       "      <td>0.0</td>\n",
       "    </tr>\n",
       "    <tr>\n",
       "      <th>4</th>\n",
       "      <td>AUBURN GRESHAM</td>\n",
       "      <td>0.400000</td>\n",
       "      <td>0.200000</td>\n",
       "      <td>0.200000</td>\n",
       "      <td>0.000000</td>\n",
       "      <td>0.000000</td>\n",
       "      <td>0.0</td>\n",
       "      <td>0.200000</td>\n",
       "      <td>0.000000</td>\n",
       "      <td>0.0</td>\n",
       "      <td>0.0</td>\n",
       "    </tr>\n",
       "  </tbody>\n",
       "</table>\n",
       "</div>"
      ],
      "text/plain": [
       "                 Neighborhood  Arts_and_Entertainment  College_and_University  \\\n",
       "0               ANDERSONVILLE                0.070175                0.035088   \n",
       "1  ARCHER HEIGHTS,WEST ELSDON                0.100000                0.000000   \n",
       "2     ARMOUR SQUARE,CHINATOWN                0.148148                0.111111   \n",
       "3                     ASHBURN                0.000000                0.000000   \n",
       "4              AUBURN GRESHAM                0.400000                0.200000   \n",
       "\n",
       "       Food  Nightlife_Spot  Outdoors_and_Recreation  \\\n",
       "0  0.561404        0.052632                 0.017544   \n",
       "1  0.400000        0.000000                 0.000000   \n",
       "2  0.481481        0.037037                 0.000000   \n",
       "3  0.400000        0.000000                 0.000000   \n",
       "4  0.200000        0.000000                 0.000000   \n",
       "\n",
       "   Professional_and_Other_Places  Shop_and_Service  Travel_and_Transport  \\\n",
       "0                            0.0          0.263158              0.000000   \n",
       "1                            0.0          0.500000              0.000000   \n",
       "2                            0.0          0.148148              0.074074   \n",
       "3                            0.0          0.400000              0.200000   \n",
       "4                            0.0          0.200000              0.000000   \n",
       "\n",
       "   Residence  Event  \n",
       "0        0.0    0.0  \n",
       "1        0.0    0.0  \n",
       "2        0.0    0.0  \n",
       "3        0.0    0.0  \n",
       "4        0.0    0.0  "
      ]
     },
     "execution_count": 60,
     "metadata": {},
     "output_type": "execute_result"
    }
   ],
   "source": [
    "Chicago_grouped['Residence'] = np.zeros_like(Chicago_grouped['Food'])\n",
    "Chicago_grouped['Event'] = np.zeros_like(Chicago_grouped['Food'])\n",
    "Chicago_grouped.head()"
   ]
  },
  {
   "cell_type": "code",
   "execution_count": 61,
   "metadata": {},
   "outputs": [],
   "source": [
    "Chicago_grouped.to_csv('Chicago_grouped.csv')"
   ]
  },
  {
   "cell_type": "markdown",
   "metadata": {},
   "source": [
    "Again, because the data of popular venues could vary from time to time, we save the metrics on the cloud and load it when it's needed."
   ]
  },
  {
   "cell_type": "code",
   "execution_count": 21,
   "metadata": {},
   "outputs": [],
   "source": [
    "Chicago_grouped = pd.read_csv('https://query.data.world/s/uw24mhm2hwz4h6o3zmsnpbgvfgwlr2')"
   ]
  },
  {
   "cell_type": "code",
   "execution_count": 22,
   "metadata": {},
   "outputs": [
    {
     "data": {
      "text/plain": [
       "(77, 10)"
      ]
     },
     "execution_count": 22,
     "metadata": {},
     "output_type": "execute_result"
    }
   ],
   "source": [
    "X_Chi = Chicago_grouped.iloc[:,2:]\n",
    "X_Chi.shape"
   ]
  },
  {
   "cell_type": "markdown",
   "metadata": {},
   "source": [
    "It seems that somehow we couldn't get the venue of a neighborhood, so let's find out which one is it."
   ]
  },
  {
   "cell_type": "code",
   "execution_count": 23,
   "metadata": {},
   "outputs": [
    {
     "name": "stdout",
     "output_type": "stream",
     "text": [
      "Venuens of RIVERDALE not found.\n"
     ]
    }
   ],
   "source": [
    "for i in range(Chi_Cards_Fraud_rates.shape[0]):\n",
    "    if Chi_Cards_Fraud_rates['Neighborhood'][i] not in list(Chicago_grouped['Neighborhood']):\n",
    "        print('Venuens of', Chi_Cards_Fraud_rates['Neighborhood'][i], 'not found.')"
   ]
  },
  {
   "cell_type": "code",
   "execution_count": 24,
   "metadata": {},
   "outputs": [],
   "source": [
    "# excluding RIVERDALE data\n",
    "y_Chi = Chi_Cards_Fraud_rates['risk_level'][Chi_Cards_Fraud_rates['Neighborhood']!='RIVERDALE']"
   ]
  },
  {
   "cell_type": "markdown",
   "metadata": {},
   "source": [
    "# Building classification model <a name=\"modeling\"></a>"
   ]
  },
  {
   "cell_type": "markdown",
   "metadata": {},
   "source": [
    "Because we aim to predict the outliers, the data must be very <b>imbalanced</b>. Therefore, we <b>oversample (naive and SMOTE)</b> the outliers in San Francisco data to balance the  training data. Since every feature are in the same scale, we don't need to standardize them. Then we train the model with San Francisco data and use the Chicago data to evaluate the performance of the model. Underestimating the risk of credit card fraud could be devastating to financial institution and public wealth, therefore, <b>high value of recall</b> of a model is very desirable.\n",
    "\n",
    "We use the following algorithm for classification:\n",
    "- K Nearest Neighbor(KNN)\n",
    "- Decision Tree\n",
    "- Support Vector Machine\n",
    "- Logistic Regression"
   ]
  },
  {
   "cell_type": "markdown",
   "metadata": {},
   "source": [
    "### Function for model evaluation"
   ]
  },
  {
   "cell_type": "code",
   "execution_count": 25,
   "metadata": {},
   "outputs": [],
   "source": [
    "from sklearn.metrics import classification_report, confusion_matrix\n",
    "import seaborn as sns"
   ]
  },
  {
   "cell_type": "code",
   "execution_count": 26,
   "metadata": {},
   "outputs": [],
   "source": [
    "def model(model,features_train,features_test,labels_train,labels_test):\n",
    "    \"\"\"\n",
    "    This function evaluate the performance of the model and prints and plots the confusion matrix.\n",
    "    Normalization can be applied by setting `normalize=True`.\n",
    "    \"\"\"\n",
    "    clf= model\n",
    "    clf.fit(features_train,labels_train.values.ravel())\n",
    "    pred=clf.predict(features_test)\n",
    "    cnf_matrix=confusion_matrix(labels_test,pred)\n",
    "    print(\"the recall for this model is :\",cnf_matrix[1,1]/(cnf_matrix[1,1]+cnf_matrix[1,0]))\n",
    "    fig= plt.figure(figsize=(6,3))# to plot the graph\n",
    "    print(\"TP\",cnf_matrix[1,1,]) # no of outliers which are predicted as outliers\n",
    "    print(\"TN\",cnf_matrix[0,0]) # no. of average which are predited as average\n",
    "    print(\"FP\",cnf_matrix[0,1]) # no of average which are predicted as outliers\n",
    "    print(\"FN\",cnf_matrix[1,0]) # no of outliers which are predicted as average\n",
    "    \n",
    "    sns.heatmap(cnf_matrix,cmap=\"coolwarm_r\",annot=True,linewidths=0.5)\n",
    "    plt.title(\"Confusion_matrix\")\n",
    "    plt.xlabel(\"Predicted_class\")\n",
    "    plt.ylabel(\"Real class\")\n",
    "    plt.show()\n",
    "    \n",
    "    \n",
    "    print(\"\\n----------Classification Report------------------------------------\")\n",
    "    print(classification_report(labels_test,pred))"
   ]
  },
  {
   "cell_type": "markdown",
   "metadata": {},
   "source": [
    "### Oversampling: naive"
   ]
  },
  {
   "cell_type": "code",
   "execution_count": 27,
   "metadata": {},
   "outputs": [
    {
     "name": "stdout",
     "output_type": "stream",
     "text": [
      "length of training data 41\n",
      "length of average data 37\n",
      "length of outlier  data 4\n"
     ]
    }
   ],
   "source": [
    "print(\"length of training data\",len(X))\n",
    "print(\"length of average data\",len(y[y=='average']))\n",
    "print(\"length of outlier  data\",len(y[y=='outliers']))"
   ]
  },
  {
   "cell_type": "code",
   "execution_count": 28,
   "metadata": {},
   "outputs": [
    {
     "name": "stdout",
     "output_type": "stream",
     "text": [
      "length of average data 37\n",
      "length of outliers data 4\n"
     ]
    }
   ],
   "source": [
    "X[\"risk_level\"]= y.values # combining class with original data\n",
    "X = X.copy() # for naming convention\n",
    "\n",
    "# Now make data set of average and outliers from train data\n",
    "average = X[X[\"risk_level\"]=='average']\n",
    "print(\"length of average data\",len(average))\n",
    "outliers = X[X[\"risk_level\"]=='outliers']\n",
    "print(\"length of outliers data\",len(outliers))"
   ]
  },
  {
   "cell_type": "code",
   "execution_count": 29,
   "metadata": {},
   "outputs": [
    {
     "name": "stdout",
     "output_type": "stream",
     "text": [
      "length of oversampled data is  73\n",
      "Number of average in oversampled data 37\n",
      "Number of outliers in oversampled data 36\n",
      "Proportion of average in oversampled data is  0.5068493150684932\n",
      "Proportion of outliers in oversampled data is  0.4931506849315068\n"
     ]
    }
   ],
   "source": [
    "# Now we start oversampling the training data \n",
    "# meaning that we will duplicate the value of outliers data for many times\n",
    "for i in range(9): # the number is choosen to make the number of outliers and average data close to even\n",
    "    average = average.append(outliers)\n",
    "os_data = average.copy() \n",
    "print(\"length of oversampled data is \",len(os_data))\n",
    "print(\"Number of average in oversampled data\",len(os_data[os_data[\"risk_level\"]=='average']))\n",
    "print(\"Number of outliers in oversampled data\",len(os_data[os_data[\"risk_level\"]=='outliers']))\n",
    "print(\"Proportion of average in oversampled data is \",len(os_data[os_data[\"risk_level\"]=='average'])/len(os_data))\n",
    "print(\"Proportion of outliers in oversampled data is \",len(os_data[os_data[\"risk_level\"]=='outliers'])/len(os_data))"
   ]
  },
  {
   "cell_type": "markdown",
   "metadata": {},
   "source": [
    "#### K Nearest Neighbor(KNN)"
   ]
  },
  {
   "cell_type": "code",
   "execution_count": 30,
   "metadata": {},
   "outputs": [],
   "source": [
    "# now we split y from X of oversampled data\n",
    "os_data_X = os_data.drop([\"risk_level\"],axis=1)\n",
    "os_data_y = os_data[\"risk_level\"]"
   ]
  },
  {
   "cell_type": "code",
   "execution_count": 34,
   "metadata": {},
   "outputs": [
    {
     "name": "stdout",
     "output_type": "stream",
     "text": [
      "[0.         0.         0.         0.         0.         0.\n",
      " 0.16666667 0.16666667 0.33333333 0.33333333 0.5        0.5\n",
      " 0.5        0.5        0.5        0.5        0.5        0.33333333\n",
      " 0.33333333]\n",
      "[0.         0.         0.         0.         0.         0.\n",
      " 0.03571429 0.03571429 0.0625     0.0625     0.08108108 0.08108108\n",
      " 0.07317073 0.07317073 0.06976744 0.06976744 0.06521739 0.08\n",
      " 0.06666667]\n"
     ]
    }
   ],
   "source": [
    "from sklearn.neighbors import KNeighborsClassifier\n",
    "\n",
    "# Best k\n",
    "Ks=20\n",
    "recall=np.zeros((Ks-1))\n",
    "precision=np.zeros((Ks-1))\n",
    "for n in range(1,Ks):\n",
    "    \n",
    "    #Train Model and Predict  \n",
    "    kNN_model = KNeighborsClassifier(n_neighbors=n).fit(os_data_X, os_data_y)\n",
    "    yhat = kNN_model.predict(X_Chi)\n",
    "    cnf_matrix = confusion_matrix(y_Chi,yhat)\n",
    "    \n",
    "    recall[n-1]=cnf_matrix[1,1]/(cnf_matrix[1,1]+cnf_matrix[1,0])\n",
    "    precision[n-1]=cnf_matrix[1,1]/(cnf_matrix[1,1]+cnf_matrix[0,1])\n",
    "print(recall)\n",
    "print(precision)"
   ]
  },
  {
   "cell_type": "markdown",
   "metadata": {},
   "source": [
    "We found the model has <b>best recall and precision</b> for k=11,12. Therefore, we build the KNN model with k=11. "
   ]
  },
  {
   "cell_type": "code",
   "execution_count": 35,
   "metadata": {},
   "outputs": [],
   "source": [
    "kNN_model_naive = KNeighborsClassifier(n_neighbors=11)"
   ]
  },
  {
   "cell_type": "markdown",
   "metadata": {},
   "source": [
    "#### Decision Tree"
   ]
  },
  {
   "cell_type": "code",
   "execution_count": 36,
   "metadata": {},
   "outputs": [],
   "source": [
    "from sklearn.tree import DecisionTreeClassifier"
   ]
  },
  {
   "cell_type": "markdown",
   "metadata": {},
   "source": [
    "The term max_depth is a hyperparameter, sklearn has the class  <b>GridSearchCV</b> to make the process of finding the best hyperparameter simpler."
   ]
  },
  {
   "cell_type": "code",
   "execution_count": 37,
   "metadata": {},
   "outputs": [
    {
     "data": {
      "text/plain": [
       "[{'max_depth': [1, 2, 3, 4, 5, 6, 7, 8, 9, 10, 11, 12, 13, 14]}]"
      ]
     },
     "execution_count": 37,
     "metadata": {},
     "output_type": "execute_result"
    }
   ],
   "source": [
    "from sklearn.model_selection import GridSearchCV\n",
    "parameters1= [{'max_depth': list(range(1,15))}]\n",
    "parameters1"
   ]
  },
  {
   "cell_type": "code",
   "execution_count": 38,
   "metadata": {},
   "outputs": [
    {
     "name": "stderr",
     "output_type": "stream",
     "text": [
      "/home/jupyterlab/conda/lib/python3.6/site-packages/sklearn/model_selection/_search.py:841: DeprecationWarning: The default of the `iid` parameter will change from True to False in version 0.22 and will be removed in 0.24. This will change numeric results when test-set sizes are unequal.\n",
      "  DeprecationWarning)\n"
     ]
    },
    {
     "data": {
      "text/plain": [
       "GridSearchCV(cv=4, error_score='raise-deprecating',\n",
       "       estimator=DecisionTreeClassifier(class_weight=None, criterion='gini', max_depth=None,\n",
       "            max_features=None, max_leaf_nodes=None,\n",
       "            min_impurity_decrease=0.0, min_impurity_split=None,\n",
       "            min_samples_leaf=1, min_samples_split=2,\n",
       "            min_weight_fraction_leaf=0.0, presort=False, random_state=1,\n",
       "            splitter='best'),\n",
       "       fit_params=None, iid='warn', n_jobs=None,\n",
       "       param_grid=[{'max_depth': [1, 2, 3, 4, 5, 6, 7, 8, 9, 10, 11, 12, 13, 14]}],\n",
       "       pre_dispatch='2*n_jobs', refit=True, return_train_score='warn',\n",
       "       scoring=None, verbose=0)"
      ]
     },
     "execution_count": 38,
     "metadata": {},
     "output_type": "execute_result"
    }
   ],
   "source": [
    "DT = DecisionTreeClassifier(random_state=1)\n",
    "Grid = GridSearchCV(DT, parameters1,cv=4)\n",
    "Grid.fit(os_data_X, os_data_y)"
   ]
  },
  {
   "cell_type": "markdown",
   "metadata": {},
   "source": [
    "The object finds the best parameter values on the validation data. We can obtain the estimator with the best parameters and assign it to the variable BestDT as follows:"
   ]
  },
  {
   "cell_type": "code",
   "execution_count": 39,
   "metadata": {},
   "outputs": [
    {
     "data": {
      "text/plain": [
       "DecisionTreeClassifier(class_weight=None, criterion='gini', max_depth=2,\n",
       "            max_features=None, max_leaf_nodes=None,\n",
       "            min_impurity_decrease=0.0, min_impurity_split=None,\n",
       "            min_samples_leaf=1, min_samples_split=2,\n",
       "            min_weight_fraction_leaf=0.0, presort=False, random_state=1,\n",
       "            splitter='best')"
      ]
     },
     "execution_count": 39,
     "metadata": {},
     "output_type": "execute_result"
    }
   ],
   "source": [
    "BestDT_naive=Grid.best_estimator_\n",
    "BestDT_naive"
   ]
  },
  {
   "cell_type": "markdown",
   "metadata": {},
   "source": [
    "We found the best decision tree are the one with max_depth=2."
   ]
  },
  {
   "cell_type": "markdown",
   "metadata": {},
   "source": [
    "#### Support Vector Machine"
   ]
  },
  {
   "cell_type": "code",
   "execution_count": 48,
   "metadata": {},
   "outputs": [],
   "source": [
    "from sklearn import svm\n",
    "SVM_model_naive = svm.SVC()"
   ]
  },
  {
   "cell_type": "markdown",
   "metadata": {},
   "source": [
    "#### Logistic Regression"
   ]
  },
  {
   "cell_type": "code",
   "execution_count": 49,
   "metadata": {},
   "outputs": [],
   "source": [
    "from sklearn.linear_model import LogisticRegression\n",
    "LR_model_naive = LogisticRegression(C=0.01)"
   ]
  },
  {
   "cell_type": "markdown",
   "metadata": {},
   "source": [
    "### Oversampling: SMOTE"
   ]
  },
  {
   "cell_type": "code",
   "execution_count": 5,
   "metadata": {},
   "outputs": [
    {
     "name": "stdout",
     "output_type": "stream",
     "text": [
      "Collecting package metadata: done\n",
      "Solving environment: done\n",
      "\n",
      "## Package Plan ##\n",
      "\n",
      "  environment location: /home/jupyterlab/conda\n",
      "\n",
      "  added / updated specs:\n",
      "    - imbalanced-learn\n",
      "\n",
      "\n",
      "The following packages will be downloaded:\n",
      "\n",
      "    package                    |            build\n",
      "    ---------------------------|-----------------\n",
      "    imbalanced-learn-0.4.3     |             py_0          88 KB  conda-forge\n",
      "    ------------------------------------------------------------\n",
      "                                           Total:          88 KB\n",
      "\n",
      "The following NEW packages will be INSTALLED:\n",
      "\n",
      "  imbalanced-learn   conda-forge/noarch::imbalanced-learn-0.4.3-py_0\n",
      "\n",
      "\n",
      "\n",
      "Downloading and Extracting Packages\n",
      "imbalanced-learn-0.4 | 88 KB     | ##################################### | 100% \n",
      "Preparing transaction: done\n",
      "Verifying transaction: done\n",
      "Executing transaction: done\n"
     ]
    }
   ],
   "source": [
    "!conda install -c conda-forge imbalanced-learn --yes"
   ]
  },
  {
   "cell_type": "code",
   "execution_count": 41,
   "metadata": {},
   "outputs": [],
   "source": [
    "from imblearn.over_sampling import SMOTE\n",
    "os = SMOTE(random_state=0,k_neighbors=3)"
   ]
  },
  {
   "cell_type": "code",
   "execution_count": 42,
   "metadata": {},
   "outputs": [],
   "source": [
    "X = X.drop([\"risk_level\"],axis=1)"
   ]
  },
  {
   "cell_type": "code",
   "execution_count": 43,
   "metadata": {},
   "outputs": [
    {
     "name": "stdout",
     "output_type": "stream",
     "text": [
      "length of oversampled data is  74\n",
      "Number of average in oversampled data 37\n",
      "No.of outliers 37\n",
      "Proportion of average in oversampled data is  0.5068493150684932\n",
      "Proportion of outliers in oversampled data is  0.5068493150684932\n"
     ]
    }
   ],
   "source": [
    "columns = X.columns\n",
    "SMOTE_X, SMOTE_y = os.fit_sample(X,y)\n",
    "SMOTE_X = pd.DataFrame(data=SMOTE_X,columns=columns )\n",
    "SMOTE_y= pd.DataFrame(data=SMOTE_y,columns=[\"risk_level\"])\n",
    "\n",
    "print(\"length of oversampled data is \",len(SMOTE_X))\n",
    "print(\"Number of average in oversampled data\",len(SMOTE_y[SMOTE_y[\"risk_level\"]=='average']))\n",
    "print(\"No.of outliers\",len(SMOTE_y[SMOTE_y[\"risk_level\"]=='outliers']))\n",
    "print(\"Proportion of average in oversampled data is \",len(SMOTE_y[SMOTE_y[\"risk_level\"]=='average'])/len(os_data_X))\n",
    "print(\"Proportion of outliers in oversampled data is \",len(SMOTE_y[SMOTE_y[\"risk_level\"]=='outliers'])/len(os_data_X))"
   ]
  },
  {
   "cell_type": "markdown",
   "metadata": {},
   "source": [
    "#### K Nearest Neighbor(KNN)"
   ]
  },
  {
   "cell_type": "code",
   "execution_count": 44,
   "metadata": {},
   "outputs": [
    {
     "name": "stdout",
     "output_type": "stream",
     "text": [
      "[0.         0.         0.         0.         0.         0.\n",
      " 0.16666667 0.16666667 0.33333333 0.33333333 0.33333333 0.33333333\n",
      " 0.33333333 0.33333333 0.33333333 0.33333333 0.33333333 0.33333333\n",
      " 0.33333333]\n",
      "[0.         0.         0.         0.         0.         0.\n",
      " 0.03703704 0.03846154 0.06666667 0.07142857 0.05714286 0.05882353\n",
      " 0.05405405 0.05882353 0.05263158 0.05405405 0.05128205 0.05263158\n",
      " 0.05      ]\n"
     ]
    },
    {
     "name": "stderr",
     "output_type": "stream",
     "text": [
      "/home/jupyterlab/conda/lib/python3.6/site-packages/ipykernel_launcher.py:8: DataConversionWarning: A column-vector y was passed when a 1d array was expected. Please change the shape of y to (n_samples, ), for example using ravel().\n",
      "  \n",
      "/home/jupyterlab/conda/lib/python3.6/site-packages/ipykernel_launcher.py:8: DataConversionWarning: A column-vector y was passed when a 1d array was expected. Please change the shape of y to (n_samples, ), for example using ravel().\n",
      "  \n",
      "/home/jupyterlab/conda/lib/python3.6/site-packages/ipykernel_launcher.py:8: DataConversionWarning: A column-vector y was passed when a 1d array was expected. Please change the shape of y to (n_samples, ), for example using ravel().\n",
      "  \n",
      "/home/jupyterlab/conda/lib/python3.6/site-packages/ipykernel_launcher.py:8: DataConversionWarning: A column-vector y was passed when a 1d array was expected. Please change the shape of y to (n_samples, ), for example using ravel().\n",
      "  \n",
      "/home/jupyterlab/conda/lib/python3.6/site-packages/ipykernel_launcher.py:8: DataConversionWarning: A column-vector y was passed when a 1d array was expected. Please change the shape of y to (n_samples, ), for example using ravel().\n",
      "  \n",
      "/home/jupyterlab/conda/lib/python3.6/site-packages/ipykernel_launcher.py:8: DataConversionWarning: A column-vector y was passed when a 1d array was expected. Please change the shape of y to (n_samples, ), for example using ravel().\n",
      "  \n",
      "/home/jupyterlab/conda/lib/python3.6/site-packages/ipykernel_launcher.py:8: DataConversionWarning: A column-vector y was passed when a 1d array was expected. Please change the shape of y to (n_samples, ), for example using ravel().\n",
      "  \n",
      "/home/jupyterlab/conda/lib/python3.6/site-packages/ipykernel_launcher.py:8: DataConversionWarning: A column-vector y was passed when a 1d array was expected. Please change the shape of y to (n_samples, ), for example using ravel().\n",
      "  \n",
      "/home/jupyterlab/conda/lib/python3.6/site-packages/ipykernel_launcher.py:8: DataConversionWarning: A column-vector y was passed when a 1d array was expected. Please change the shape of y to (n_samples, ), for example using ravel().\n",
      "  \n",
      "/home/jupyterlab/conda/lib/python3.6/site-packages/ipykernel_launcher.py:8: DataConversionWarning: A column-vector y was passed when a 1d array was expected. Please change the shape of y to (n_samples, ), for example using ravel().\n",
      "  \n",
      "/home/jupyterlab/conda/lib/python3.6/site-packages/ipykernel_launcher.py:8: DataConversionWarning: A column-vector y was passed when a 1d array was expected. Please change the shape of y to (n_samples, ), for example using ravel().\n",
      "  \n",
      "/home/jupyterlab/conda/lib/python3.6/site-packages/ipykernel_launcher.py:8: DataConversionWarning: A column-vector y was passed when a 1d array was expected. Please change the shape of y to (n_samples, ), for example using ravel().\n",
      "  \n",
      "/home/jupyterlab/conda/lib/python3.6/site-packages/ipykernel_launcher.py:8: DataConversionWarning: A column-vector y was passed when a 1d array was expected. Please change the shape of y to (n_samples, ), for example using ravel().\n",
      "  \n",
      "/home/jupyterlab/conda/lib/python3.6/site-packages/ipykernel_launcher.py:8: DataConversionWarning: A column-vector y was passed when a 1d array was expected. Please change the shape of y to (n_samples, ), for example using ravel().\n",
      "  \n",
      "/home/jupyterlab/conda/lib/python3.6/site-packages/ipykernel_launcher.py:8: DataConversionWarning: A column-vector y was passed when a 1d array was expected. Please change the shape of y to (n_samples, ), for example using ravel().\n",
      "  \n",
      "/home/jupyterlab/conda/lib/python3.6/site-packages/ipykernel_launcher.py:8: DataConversionWarning: A column-vector y was passed when a 1d array was expected. Please change the shape of y to (n_samples, ), for example using ravel().\n",
      "  \n",
      "/home/jupyterlab/conda/lib/python3.6/site-packages/ipykernel_launcher.py:8: DataConversionWarning: A column-vector y was passed when a 1d array was expected. Please change the shape of y to (n_samples, ), for example using ravel().\n",
      "  \n",
      "/home/jupyterlab/conda/lib/python3.6/site-packages/ipykernel_launcher.py:8: DataConversionWarning: A column-vector y was passed when a 1d array was expected. Please change the shape of y to (n_samples, ), for example using ravel().\n",
      "  \n",
      "/home/jupyterlab/conda/lib/python3.6/site-packages/ipykernel_launcher.py:8: DataConversionWarning: A column-vector y was passed when a 1d array was expected. Please change the shape of y to (n_samples, ), for example using ravel().\n",
      "  \n"
     ]
    }
   ],
   "source": [
    "# Best k\n",
    "Ks=20\n",
    "recall=np.zeros((Ks-1))\n",
    "precision=np.zeros((Ks-1))\n",
    "for n in range(1,Ks):\n",
    "    \n",
    "    #Train Model and Predict  \n",
    "    kNN_model = KNeighborsClassifier(n_neighbors=n).fit(SMOTE_X, SMOTE_y)\n",
    "    yhat = kNN_model.predict(X_Chi)\n",
    "    cnf_matrix = confusion_matrix(y_Chi,yhat)\n",
    "    \n",
    "    recall[n-1]=cnf_matrix[1,1]/(cnf_matrix[1,1]+cnf_matrix[1,0])\n",
    "    precision[n-1]=cnf_matrix[1,1]/(cnf_matrix[1,1]+cnf_matrix[0,1])\n",
    "print(recall)\n",
    "print(precision)"
   ]
  },
  {
   "cell_type": "markdown",
   "metadata": {},
   "source": [
    "We found the model has <b>best recall and precision</b> for k=10. Therefore, we build the KNN model with k=10."
   ]
  },
  {
   "cell_type": "code",
   "execution_count": 45,
   "metadata": {},
   "outputs": [],
   "source": [
    "kNN_model_SMOTE = KNeighborsClassifier(n_neighbors=10)"
   ]
  },
  {
   "cell_type": "markdown",
   "metadata": {},
   "source": [
    "#### Decision Tree"
   ]
  },
  {
   "cell_type": "code",
   "execution_count": 46,
   "metadata": {},
   "outputs": [
    {
     "name": "stderr",
     "output_type": "stream",
     "text": [
      "/home/jupyterlab/conda/lib/python3.6/site-packages/sklearn/model_selection/_search.py:841: DeprecationWarning: The default of the `iid` parameter will change from True to False in version 0.22 and will be removed in 0.24. This will change numeric results when test-set sizes are unequal.\n",
      "  DeprecationWarning)\n"
     ]
    },
    {
     "data": {
      "text/plain": [
       "DecisionTreeClassifier(class_weight=None, criterion='gini', max_depth=1,\n",
       "            max_features=None, max_leaf_nodes=None,\n",
       "            min_impurity_decrease=0.0, min_impurity_split=None,\n",
       "            min_samples_leaf=1, min_samples_split=2,\n",
       "            min_weight_fraction_leaf=0.0, presort=False, random_state=1,\n",
       "            splitter='best')"
      ]
     },
     "execution_count": 46,
     "metadata": {},
     "output_type": "execute_result"
    }
   ],
   "source": [
    "Grid.fit(SMOTE_X, SMOTE_y)\n",
    "BestDT_SMOTE=Grid.best_estimator_\n",
    "BestDT_SMOTE"
   ]
  },
  {
   "cell_type": "markdown",
   "metadata": {},
   "source": [
    "We found the best decision tree model is the one with max_depth=1."
   ]
  },
  {
   "cell_type": "markdown",
   "metadata": {},
   "source": [
    "#### Support Vector Machine"
   ]
  },
  {
   "cell_type": "markdown",
   "metadata": {},
   "source": [
    "#### Logistic Regression"
   ]
  },
  {
   "cell_type": "code",
   "execution_count": 50,
   "metadata": {},
   "outputs": [],
   "source": [
    "SVM_model_SMOTE = svm.SVC()"
   ]
  },
  {
   "cell_type": "markdown",
   "metadata": {},
   "source": [
    "## Model evaluation <a name=\"model_evaluation\"></a>"
   ]
  },
  {
   "cell_type": "code",
   "execution_count": 61,
   "metadata": {},
   "outputs": [],
   "source": [
    "LR_model_SMOTE = LogisticRegression(C=0.01)"
   ]
  },
  {
   "cell_type": "markdown",
   "metadata": {},
   "source": [
    "### Oversampling: naive"
   ]
  },
  {
   "cell_type": "markdown",
   "metadata": {},
   "source": [
    "Now, we use the function <b>model</b> we build above to evaluate the performance of each model. We will focus on the <b>recall and precision of outliers</b> and <b>weighted average f1 score</b> of each model."
   ]
  },
  {
   "cell_type": "markdown",
   "metadata": {},
   "source": [
    "#### K Nearest Neighbor(KNN)"
   ]
  },
  {
   "cell_type": "code",
   "execution_count": 56,
   "metadata": {},
   "outputs": [
    {
     "name": "stdout",
     "output_type": "stream",
     "text": [
      "the recall for this model is : 0.5\n",
      "TP 3\n",
      "TN 37\n",
      "FP 34\n",
      "FN 3\n"
     ]
    },
    {
     "data": {
      "image/png": "[encoded data removed]",
      "text/plain": [
       "<Figure size 432x216 with 2 Axes>"
      ]
     },
     "metadata": {
      "needs_background": "light"
     },
     "output_type": "display_data"
    },
    {
     "name": "stdout",
     "output_type": "stream",
     "text": [
      "\n",
      "----------Classification Report------------------------------------\n",
      "              precision    recall  f1-score   support\n",
      "\n",
      "     average       0.93      0.52      0.67        71\n",
      "    outliers       0.08      0.50      0.14         6\n",
      "\n",
      "   micro avg       0.52      0.52      0.52        77\n",
      "   macro avg       0.50      0.51      0.40        77\n",
      "weighted avg       0.86      0.52      0.63        77\n",
      "\n"
     ]
    }
   ],
   "source": [
    "model(kNN_model_naive,os_data_X,X_Chi,os_data_y,y_Chi)"
   ]
  },
  {
   "cell_type": "markdown",
   "metadata": {},
   "source": [
    "#### Decision Tree"
   ]
  },
  {
   "cell_type": "code",
   "execution_count": 53,
   "metadata": {},
   "outputs": [
    {
     "name": "stdout",
     "output_type": "stream",
     "text": [
      "the recall for this model is : 0.6666666666666666\n",
      "TP 4\n",
      "TN 42\n",
      "FP 29\n",
      "FN 2\n"
     ]
    },
    {
     "data": {
      "image/png": "[encoded data removed]",
      "text/plain": [
       "<Figure size 432x216 with 2 Axes>"
      ]
     },
     "metadata": {
      "needs_background": "light"
     },
     "output_type": "display_data"
    },
    {
     "name": "stdout",
     "output_type": "stream",
     "text": [
      "\n",
      "----------Classification Report------------------------------------\n",
      "              precision    recall  f1-score   support\n",
      "\n",
      "     average       0.95      0.59      0.73        71\n",
      "    outliers       0.12      0.67      0.21         6\n",
      "\n",
      "   micro avg       0.60      0.60      0.60        77\n",
      "   macro avg       0.54      0.63      0.47        77\n",
      "weighted avg       0.89      0.60      0.69        77\n",
      "\n"
     ]
    }
   ],
   "source": [
    "model(BestDT_naive,os_data_X,X_Chi,os_data_y,y_Chi)"
   ]
  },
  {
   "cell_type": "markdown",
   "metadata": {},
   "source": [
    "#### Support Vector Machine"
   ]
  },
  {
   "cell_type": "code",
   "execution_count": 54,
   "metadata": {},
   "outputs": [
    {
     "name": "stderr",
     "output_type": "stream",
     "text": [
      "/home/jupyterlab/conda/lib/python3.6/site-packages/sklearn/svm/base.py:196: FutureWarning: The default value of gamma will change from 'auto' to 'scale' in version 0.22 to account better for unscaled features. Set gamma explicitly to 'auto' or 'scale' to avoid this warning.\n",
      "  \"avoid this warning.\", FutureWarning)\n"
     ]
    },
    {
     "name": "stdout",
     "output_type": "stream",
     "text": [
      "the recall for this model is : 1.0\n",
      "TP 6\n",
      "TN 11\n",
      "FP 60\n",
      "FN 0\n"
     ]
    },
    {
     "data": {
      "image/png": "[encoded data removed]",
      "text/plain": [
       "<Figure size 432x216 with 2 Axes>"
      ]
     },
     "metadata": {
      "needs_background": "light"
     },
     "output_type": "display_data"
    },
    {
     "name": "stdout",
     "output_type": "stream",
     "text": [
      "\n",
      "----------Classification Report------------------------------------\n",
      "              precision    recall  f1-score   support\n",
      "\n",
      "     average       1.00      0.15      0.27        71\n",
      "    outliers       0.09      1.00      0.17         6\n",
      "\n",
      "   micro avg       0.22      0.22      0.22        77\n",
      "   macro avg       0.55      0.58      0.22        77\n",
      "weighted avg       0.93      0.22      0.26        77\n",
      "\n"
     ]
    }
   ],
   "source": [
    "model(SVM_model_naive,os_data_X,X_Chi,os_data_y,y_Chi)"
   ]
  },
  {
   "cell_type": "markdown",
   "metadata": {},
   "source": [
    "#### Losgistic Regression"
   ]
  },
  {
   "cell_type": "code",
   "execution_count": 55,
   "metadata": {},
   "outputs": [
    {
     "name": "stderr",
     "output_type": "stream",
     "text": [
      "/home/jupyterlab/conda/lib/python3.6/site-packages/sklearn/linear_model/logistic.py:433: FutureWarning: Default solver will be changed to 'lbfgs' in 0.22. Specify a solver to silence this warning.\n",
      "  FutureWarning)\n"
     ]
    },
    {
     "name": "stdout",
     "output_type": "stream",
     "text": [
      "the recall for this model is : 0.8333333333333334\n",
      "TP 5\n",
      "TN 17\n",
      "FP 54\n",
      "FN 1\n"
     ]
    },
    {
     "data": {
      "image/png": "[encoded data removed]",
      "text/plain": [
       "<Figure size 432x216 with 2 Axes>"
      ]
     },
     "metadata": {
      "needs_background": "light"
     },
     "output_type": "display_data"
    },
    {
     "name": "stdout",
     "output_type": "stream",
     "text": [
      "\n",
      "----------Classification Report------------------------------------\n",
      "              precision    recall  f1-score   support\n",
      "\n",
      "     average       0.94      0.24      0.38        71\n",
      "    outliers       0.08      0.83      0.15         6\n",
      "\n",
      "   micro avg       0.29      0.29      0.29        77\n",
      "   macro avg       0.51      0.54      0.27        77\n",
      "weighted avg       0.88      0.29      0.36        77\n",
      "\n"
     ]
    }
   ],
   "source": [
    "model(LR_model_naive,os_data_X,X_Chi,os_data_y,y_Chi)"
   ]
  },
  {
   "cell_type": "markdown",
   "metadata": {},
   "source": [
    "### Oversampling: SMOTE"
   ]
  },
  {
   "cell_type": "markdown",
   "metadata": {},
   "source": [
    "#### K Nearest Neighborhoods (KNN)"
   ]
  },
  {
   "cell_type": "code",
   "execution_count": 57,
   "metadata": {},
   "outputs": [
    {
     "name": "stdout",
     "output_type": "stream",
     "text": [
      "the recall for this model is : 0.3333333333333333\n",
      "TP 2\n",
      "TN 45\n",
      "FP 26\n",
      "FN 4\n"
     ]
    },
    {
     "data": {
      "image/png": "[encoded data removed]",
      "text/plain": [
       "<Figure size 432x216 with 2 Axes>"
      ]
     },
     "metadata": {
      "needs_background": "light"
     },
     "output_type": "display_data"
    },
    {
     "name": "stdout",
     "output_type": "stream",
     "text": [
      "\n",
      "----------Classification Report------------------------------------\n",
      "              precision    recall  f1-score   support\n",
      "\n",
      "     average       0.92      0.63      0.75        71\n",
      "    outliers       0.07      0.33      0.12         6\n",
      "\n",
      "   micro avg       0.61      0.61      0.61        77\n",
      "   macro avg       0.49      0.48      0.43        77\n",
      "weighted avg       0.85      0.61      0.70        77\n",
      "\n"
     ]
    }
   ],
   "source": [
    "model(kNN_model_SMOTE,SMOTE_X,X_Chi,SMOTE_y,y_Chi)"
   ]
  },
  {
   "cell_type": "markdown",
   "metadata": {},
   "source": [
    "#### Decision Tree"
   ]
  },
  {
   "cell_type": "code",
   "execution_count": 58,
   "metadata": {},
   "outputs": [
    {
     "name": "stdout",
     "output_type": "stream",
     "text": [
      "the recall for this model is : 0.8333333333333334\n",
      "TP 5\n",
      "TN 27\n",
      "FP 44\n",
      "FN 1\n"
     ]
    },
    {
     "data": {
      "image/png": "[encoded data removed]",
      "text/plain": [
       "<Figure size 432x216 with 2 Axes>"
      ]
     },
     "metadata": {
      "needs_background": "light"
     },
     "output_type": "display_data"
    },
    {
     "name": "stdout",
     "output_type": "stream",
     "text": [
      "\n",
      "----------Classification Report------------------------------------\n",
      "              precision    recall  f1-score   support\n",
      "\n",
      "     average       0.96      0.38      0.55        71\n",
      "    outliers       0.10      0.83      0.18         6\n",
      "\n",
      "   micro avg       0.42      0.42      0.42        77\n",
      "   macro avg       0.53      0.61      0.36        77\n",
      "weighted avg       0.90      0.42      0.52        77\n",
      "\n"
     ]
    }
   ],
   "source": [
    "model(BestDT_SMOTE,SMOTE_X,X_Chi,SMOTE_y,y_Chi)"
   ]
  },
  {
   "cell_type": "markdown",
   "metadata": {},
   "source": [
    "#### Support Vector Machine"
   ]
  },
  {
   "cell_type": "code",
   "execution_count": 59,
   "metadata": {},
   "outputs": [
    {
     "name": "stderr",
     "output_type": "stream",
     "text": [
      "/home/jupyterlab/conda/lib/python3.6/site-packages/sklearn/svm/base.py:196: FutureWarning: The default value of gamma will change from 'auto' to 'scale' in version 0.22 to account better for unscaled features. Set gamma explicitly to 'auto' or 'scale' to avoid this warning.\n",
      "  \"avoid this warning.\", FutureWarning)\n"
     ]
    },
    {
     "name": "stdout",
     "output_type": "stream",
     "text": [
      "the recall for this model is : 1.0\n",
      "TP 6\n",
      "TN 7\n",
      "FP 64\n",
      "FN 0\n"
     ]
    },
    {
     "data": {
      "image/png": "[encoded data removed]",
      "text/plain": [
       "<Figure size 432x216 with 2 Axes>"
      ]
     },
     "metadata": {
      "needs_background": "light"
     },
     "output_type": "display_data"
    },
    {
     "name": "stdout",
     "output_type": "stream",
     "text": [
      "\n",
      "----------Classification Report------------------------------------\n",
      "              precision    recall  f1-score   support\n",
      "\n",
      "     average       1.00      0.10      0.18        71\n",
      "    outliers       0.09      1.00      0.16         6\n",
      "\n",
      "   micro avg       0.17      0.17      0.17        77\n",
      "   macro avg       0.54      0.55      0.17        77\n",
      "weighted avg       0.93      0.17      0.18        77\n",
      "\n"
     ]
    }
   ],
   "source": [
    "model(SVM_model_SMOTE,SMOTE_X,X_Chi,SMOTE_y,y_Chi)"
   ]
  },
  {
   "cell_type": "markdown",
   "metadata": {},
   "source": [
    "#### Logistic Regression"
   ]
  },
  {
   "cell_type": "code",
   "execution_count": 60,
   "metadata": {},
   "outputs": [
    {
     "name": "stderr",
     "output_type": "stream",
     "text": [
      "/home/jupyterlab/conda/lib/python3.6/site-packages/sklearn/linear_model/logistic.py:433: FutureWarning: Default solver will be changed to 'lbfgs' in 0.22. Specify a solver to silence this warning.\n",
      "  FutureWarning)\n"
     ]
    },
    {
     "name": "stdout",
     "output_type": "stream",
     "text": [
      "the recall for this model is : 1.0\n",
      "TP 6\n",
      "TN 11\n",
      "FP 60\n",
      "FN 0\n"
     ]
    },
    {
     "data": {
      "image/png": "[encoded data removed]",
      "text/plain": [
       "<Figure size 432x216 with 2 Axes>"
      ]
     },
     "metadata": {
      "needs_background": "light"
     },
     "output_type": "display_data"
    },
    {
     "name": "stdout",
     "output_type": "stream",
     "text": [
      "\n",
      "----------Classification Report------------------------------------\n",
      "              precision    recall  f1-score   support\n",
      "\n",
      "     average       1.00      0.15      0.27        71\n",
      "    outliers       0.09      1.00      0.17         6\n",
      "\n",
      "   micro avg       0.22      0.22      0.22        77\n",
      "   macro avg       0.55      0.58      0.22        77\n",
      "weighted avg       0.93      0.22      0.26        77\n",
      "\n"
     ]
    }
   ],
   "source": [
    "model(LR_model_SMOTE,SMOTE_X,X_Chi,SMOTE_y,y_Chi)"
   ]
  },
  {
   "cell_type": "markdown",
   "metadata": {},
   "source": [
    "# Result and discussion <a name=\"result\"></a>"
   ]
  },
  {
   "cell_type": "markdown",
   "metadata": {},
   "source": [
    "Overall, our models do not perform well. If we accept a little loss in recall, let's say <b>recall = 0.83 at minimum</b>. Then the qualified models will be SVM model and logistic regression model trained by naive oversampled data, and decision tree model, SVM model and logistic regression model trained by SMOTE oversampled data. However, none of these models had satisfactory precision of predicting outliers. High recall of these models came at the cost of precision, which led to many false positive in prediction. Among the qualified models, the <b>highest precision is 0.10</b> from the decision tree model trained by SMOTE oversampled data, meaning that <b>there's only one neighborhood actually at high risk of credit card fraud out of ten neighborhoods predicted to be at high risk</b>. Although there's no relevant model for us to compare the precision of prediction, we find a [report](https://www.javelinstrategy.com/coverage-area/overcoming-false-positives-saving-sale-and-customer-relationship) stated that only 1 in 5 transactions declared as fraud by fraud detection model was truly fraud. Therefore, our models are not even close to this level of precision."
   ]
  },
  {
   "cell_type": "markdown",
   "metadata": {},
   "source": [
    "We go through the data we used and found out the following possible reasons responsible for the low precision of the model:\n",
    "\n",
    "<b>1. Indistinct definition of credit card fraud:</b>\n",
    "As I mentioned in the data section, the only clue we can define a crime as credit card fraud is through the category and description of each crime. However, compared to San Francisco data, the criminal description of Chicago data is not very informative for credit card fraud, as the description was just 'credit card fraud'. The term credit card fraud could stand for various form, which might not be equivalent to those of San Francisco data, contributing to the bad prediction of our models."
   ]
  },
  {
   "cell_type": "markdown",
   "metadata": {},
   "source": [
    "<b>2. Small number of training data:</b>\n",
    "Small number of training data enhance the dilemma of overfitting and underfitting. Since the outliers of San Francisco data are few, split the data into training and test set could easily result in underfitting of the model. Therefore, we use the whole San Francisco data as training set. However, as we have seen, this might result in overfitting of the model. We can infer the overfitting from the overall bad recall of the KNN models (0.50 from naive oversampling and 0.33 from SMOTE oversampling). The credit card fraud rates of outlier meighborhoods in San Francisco have narrower range and higher value than those in Chicago (see boxplots above), therefore the outlier neighborhoods in Chicago with lower rates are <b>not 'near'</b> neighbors to the outlier neighborhoods in San Francisco."
   ]
  },
  {
   "cell_type": "markdown",
   "metadata": {},
   "source": [
    "## Future work <a name=\"future\"></a>"
   ]
  },
  {
   "cell_type": "markdown",
   "metadata": {},
   "source": [
    "Honestly, we have little to adjust for the problem of <b>indistinct definition of credit card fraud</b>. At best, we can contact the data owner to see if we can get more detailed description about the credit card fraud of Chicago data. For the problem of <b>small number of training data</b>, we can try to collect the whole credit card fraud data of USA to train the model, and use it to predict the risk of credit card fraud of neighborhoods in other country (e.g., Canada) to see if the larger amount of raw data solve the dilemma of overfitting and underfitting."
   ]
  }
 ],
 "metadata": {
  "kernelspec": {
   "display_name": "Python 3",
   "language": "python",
   "name": "python3"
  },
  "language_info": {
   "codemirror_mode": {
    "name": "ipython",
    "version": 3
   },
   "file_extension": ".py",
   "mimetype": "text/x-python",
   "name": "python",
   "nbconvert_exporter": "python",
   "pygments_lexer": "ipython3",
   "version": "3.6.8"
  }
 },
 "nbformat": 4,
 "nbformat_minor": 2
}
